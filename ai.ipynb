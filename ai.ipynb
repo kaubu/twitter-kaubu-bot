{
 "cells": [
  {
   "cell_type": "markdown",
   "metadata": {},
   "source": [
    "# Text AI Generation for Twitter Bot"
   ]
  },
  {
   "cell_type": "markdown",
   "metadata": {},
   "source": [
    "## Setup\n",
    "### Import TensorFlow and other libraries"
   ]
  },
  {
   "cell_type": "code",
   "execution_count": 18,
   "metadata": {},
   "outputs": [],
   "source": [
    "import tensorflow as tf\n",
    "\n",
    "import numpy as np\n",
    "import os\n",
    "import time"
   ]
  },
  {
   "cell_type": "markdown",
   "metadata": {},
   "source": [
    "### Read the data"
   ]
  },
  {
   "cell_type": "code",
   "execution_count": 19,
   "metadata": {},
   "outputs": [
    {
     "name": "stdout",
     "output_type": "stream",
     "text": [
      "Length of text: 93736 characters\n"
     ]
    }
   ],
   "source": [
    "PATH_TO_FILE = \"./datasets/xkaubu_pure.txt\"\n",
    "\n",
    "# Read, then decode for py2 compat\n",
    "text = open(PATH_TO_FILE, \"rb\").read().decode(encoding=\"utf-8\")\n",
    "\n",
    "# Length of text is the number of characters in it\n",
    "print(f\"Length of text: {len(text)} characters\")"
   ]
  },
  {
   "cell_type": "code",
   "execution_count": 20,
   "metadata": {},
   "outputs": [
    {
     "name": "stdout",
     "output_type": "stream",
     "text": [
      "Don't put a space between \"therapist\" 😱😱\n",
      "Worst mistake or my\n",
      "rutracker is literally based in russia...\n",
      "new AOT episode!!\n",
      "I've got 400 lines or so of 357 of my 2955 tweets\n",
      "is this that minecraft painting\n",
      "I can kinda pronounce it\n",
      "YOOOO this is an epic \n"
     ]
    }
   ],
   "source": [
    "# Take a look at the first 250 characters in text\n",
    "print(text[:250])"
   ]
  },
  {
   "cell_type": "code",
   "execution_count": 21,
   "metadata": {},
   "outputs": [
    {
     "name": "stdout",
     "output_type": "stream",
     "text": [
      "170 unique characters\n"
     ]
    }
   ],
   "source": [
    "# The unique characters in the file\n",
    "vocab = sorted(set(text))\n",
    "print(f\"{len(vocab)} unique characters\")"
   ]
  },
  {
   "cell_type": "markdown",
   "metadata": {},
   "source": [
    "## Process the text\n",
    "### Vectorize the text"
   ]
  },
  {
   "cell_type": "code",
   "execution_count": 22,
   "metadata": {},
   "outputs": [
    {
     "data": {
      "text/plain": [
       "<tf.RaggedTensor [[b'a', b'b', b'c', b'd', b'e', b'f', b'g'], [b'x', b'y', b'z']]>"
      ]
     },
     "execution_count": 22,
     "metadata": {},
     "output_type": "execute_result"
    }
   ],
   "source": [
    "example_texts = [\"abcdefg\", \"xyz\"]\n",
    "\n",
    "chars = tf.strings.unicode_split(\n",
    "    example_texts,\n",
    "    input_encoding=\"UTF-8\"\n",
    ")\n",
    "chars"
   ]
  },
  {
   "cell_type": "code",
   "execution_count": 23,
   "metadata": {},
   "outputs": [
    {
     "data": {
      "text/plain": [
       "<tf.RaggedTensor [[62, 63, 64, 65, 66, 67, 68], [85, 86, 87]]>"
      ]
     },
     "execution_count": 23,
     "metadata": {},
     "output_type": "execute_result"
    }
   ],
   "source": [
    "ids_from_chars = tf.keras.layers.StringLookup(\n",
    "    vocabulary=list(vocab),\n",
    "    mask_token=None\n",
    ")\n",
    "\n",
    "# It converts from tokens to character IDs:\n",
    "ids = ids_from_chars(chars)\n",
    "ids"
   ]
  },
  {
   "cell_type": "code",
   "execution_count": 24,
   "metadata": {},
   "outputs": [
    {
     "data": {
      "text/plain": [
       "<tf.RaggedTensor [[b'a', b'b', b'c', b'd', b'e', b'f', b'g'], [b'x', b'y', b'z']]>"
      ]
     },
     "execution_count": 24,
     "metadata": {},
     "output_type": "execute_result"
    }
   ],
   "source": [
    "# To convert the ids back into characters\n",
    "chars_from_ids = tf.keras.layers.StringLookup(\n",
    "    vocabulary=ids_from_chars.get_vocabulary(),\n",
    "    invert=True,\n",
    "    mask_token=None\n",
    ")\n",
    "\n",
    "chars = chars_from_ids(ids)\n",
    "chars"
   ]
  },
  {
   "cell_type": "code",
   "execution_count": 25,
   "metadata": {},
   "outputs": [
    {
     "data": {
      "text/plain": [
       "array([b'abcdefg', b'xyz'], dtype=object)"
      ]
     },
     "execution_count": 25,
     "metadata": {},
     "output_type": "execute_result"
    }
   ],
   "source": [
    "# Join the characters back into strings\n",
    "tf.strings.reduce_join(chars, axis=-1).numpy()"
   ]
  },
  {
   "cell_type": "code",
   "execution_count": 26,
   "metadata": {},
   "outputs": [],
   "source": [
    "def text_from_ids(ids):\n",
    "    return tf.strings.reduce_join(\n",
    "        chars_from_ids(ids),\n",
    "        axis=-1\n",
    "    )"
   ]
  },
  {
   "cell_type": "markdown",
   "metadata": {},
   "source": [
    "### Create training examples and targets"
   ]
  },
  {
   "cell_type": "code",
   "execution_count": 28,
   "metadata": {},
   "outputs": [
    {
     "data": {
      "text/plain": [
       "<tf.Tensor: shape=(93736,), dtype=int64, numpy=array([36, 76, 75, ...,  2, 70, 77])>"
      ]
     },
     "execution_count": 28,
     "metadata": {},
     "output_type": "execute_result"
    }
   ],
   "source": [
    "all_ids = ids_from_chars(\n",
    "    tf.strings.unicode_split(\n",
    "        text,\n",
    "        \"UTF-8\"\n",
    "    )\n",
    ")\n",
    "all_ids"
   ]
  },
  {
   "cell_type": "code",
   "execution_count": 29,
   "metadata": {},
   "outputs": [],
   "source": [
    "ids_dataset = tf.data.Dataset.from_tensor_slices(\n",
    "    all_ids\n",
    ")"
   ]
  },
  {
   "cell_type": "code",
   "execution_count": 30,
   "metadata": {},
   "outputs": [
    {
     "name": "stdout",
     "output_type": "stream",
     "text": [
      "D\n",
      "o\n",
      "n\n",
      "'\n",
      "t\n",
      " \n",
      "p\n",
      "u\n",
      "t\n",
      " \n"
     ]
    }
   ],
   "source": [
    "for ids in ids_dataset.take(10):\n",
    "    print(chars_from_ids(ids).numpy().decode(\"utf-8\"))"
   ]
  },
  {
   "cell_type": "code",
   "execution_count": 31,
   "metadata": {},
   "outputs": [],
   "source": [
    "SEQ_LENGTH = 100\n",
    "examples_per_epoch = len(text)//(SEQ_LENGTH+1)"
   ]
  },
  {
   "cell_type": "code",
   "execution_count": 32,
   "metadata": {},
   "outputs": [
    {
     "name": "stdout",
     "output_type": "stream",
     "text": [
      "tf.Tensor(\n",
      "[b'D' b'o' b'n' b\"'\" b't' b' ' b'p' b'u' b't' b' ' b'a' b' ' b's' b'p'\n",
      " b'a' b'c' b'e' b' ' b'b' b'e' b't' b'w' b'e' b'e' b'n' b' ' b'\"' b't'\n",
      " b'h' b'e' b'r' b'a' b'p' b'i' b's' b't' b'\"' b' ' b'\\xf0\\x9f\\x98\\xb1'\n",
      " b'\\xf0\\x9f\\x98\\xb1' b'\\n' b'W' b'o' b'r' b's' b't' b' ' b'm' b'i' b's'\n",
      " b't' b'a' b'k' b'e' b' ' b'o' b'r' b' ' b'm' b'y' b'\\n' b'r' b'u' b't'\n",
      " b'r' b'a' b'c' b'k' b'e' b'r' b' ' b'i' b's' b' ' b'l' b'i' b't' b'e'\n",
      " b'r' b'a' b'l' b'l' b'y' b' ' b'b' b'a' b's' b'e' b'd' b' ' b'i' b'n'\n",
      " b' ' b'r' b'u' b's' b's' b'i' b'a' b'.' b'.'], shape=(101,), dtype=string)\n"
     ]
    }
   ],
   "source": [
    "# Convert these individual characters to sequences of the desired size\n",
    "\n",
    "sequences = ids_dataset.batch(\n",
    "    SEQ_LENGTH+1,\n",
    "    drop_remainder=True\n",
    ")\n",
    "\n",
    "for seq in sequences.take(1):\n",
    "    print(chars_from_ids(seq))"
   ]
  },
  {
   "cell_type": "code",
   "execution_count": 33,
   "metadata": {},
   "outputs": [
    {
     "name": "stdout",
     "output_type": "stream",
     "text": [
      "b'Don\\'t put a space between \"therapist\" \\xf0\\x9f\\x98\\xb1\\xf0\\x9f\\x98\\xb1\\nWorst mistake or my\\nrutracker is literally based in russia..'\n",
      "b\".\\nnew AOT episode!!\\nI've got 400 lines or so of 357 of my 2955 tweets\\nis this that minecraft painting\"\n",
      "b'\\nI can kinda pronounce it\\nYOOOO this is an epic chungus moment\\nDo better\\nBlocked and unfollowed\\nfair '\n",
      "b\"enough\\ni've been pronouncing it potat\\ndo you pronounce ur name potato or potat?\\n???\\nGot some of my me\"\n",
      "b\"ssages already\\nSpunkbob:\\nGreat insight! But don't think we'll forget about the Assange NFTs\\nLMAO\\ni'm \"\n"
     ]
    }
   ],
   "source": [
    "for seq in sequences.take(5):\n",
    "    print(text_from_ids(seq).numpy())"
   ]
  },
  {
   "cell_type": "code",
   "execution_count": 34,
   "metadata": {},
   "outputs": [],
   "source": [
    "def split_input_target(sequence):\n",
    "    input_text = sequence[:-1]\n",
    "    target_text = sequence[1:]\n",
    "    return input_text, target_text"
   ]
  },
  {
   "cell_type": "code",
   "execution_count": 35,
   "metadata": {},
   "outputs": [
    {
     "data": {
      "text/plain": [
       "(['T', 'e', 'n', 's', 'o', 'r', 'f', 'l', 'o'],\n",
       " ['e', 'n', 's', 'o', 'r', 'f', 'l', 'o', 'w'])"
      ]
     },
     "execution_count": 35,
     "metadata": {},
     "output_type": "execute_result"
    }
   ],
   "source": [
    "split_input_target(\n",
    "    list(\"Tensorflow\")\n",
    ")"
   ]
  },
  {
   "cell_type": "code",
   "execution_count": 36,
   "metadata": {},
   "outputs": [],
   "source": [
    "dataset = sequences.map(split_input_target)"
   ]
  },
  {
   "cell_type": "code",
   "execution_count": 37,
   "metadata": {},
   "outputs": [
    {
     "name": "stdout",
     "output_type": "stream",
     "text": [
      "Input: b'Don\\'t put a space between \"therapist\" \\xf0\\x9f\\x98\\xb1\\xf0\\x9f\\x98\\xb1\\nWorst mistake or my\\nrutracker is literally based in russia.'\n",
      "Target: b'on\\'t put a space between \"therapist\" \\xf0\\x9f\\x98\\xb1\\xf0\\x9f\\x98\\xb1\\nWorst mistake or my\\nrutracker is literally based in russia..'\n"
     ]
    }
   ],
   "source": [
    "for input_example, target_example in dataset.take(1):\n",
    "    print(f\"Input: {text_from_ids(input_example).numpy()}\")\n",
    "    print(f\"Target: {text_from_ids(target_example).numpy()}\")"
   ]
  },
  {
   "cell_type": "markdown",
   "metadata": {},
   "source": [
    "### Create training batches"
   ]
  },
  {
   "cell_type": "code",
   "execution_count": 38,
   "metadata": {},
   "outputs": [
    {
     "data": {
      "text/plain": [
       "<PrefetchDataset element_spec=(TensorSpec(shape=(64, 100), dtype=tf.int64, name=None), TensorSpec(shape=(64, 100), dtype=tf.int64, name=None))>"
      ]
     },
     "execution_count": 38,
     "metadata": {},
     "output_type": "execute_result"
    }
   ],
   "source": [
    "# Batch size\n",
    "BATCH_SIZE = 64\n",
    "\n",
    "# Buffer size to shuffle the dataset\n",
    "# (TF data is designed to work with possibly infinite\n",
    "# sequences, so it doesn't attempt to shuffle the entire\n",
    "# sequence in memory. Instead, it maintains a buffer in\n",
    "# which it shuffles elements).\n",
    "BUFFER_SIZE = 10000\n",
    "\n",
    "dataset = (\n",
    "    dataset\n",
    "    .shuffle(BUFFER_SIZE)\n",
    "    .batch(BATCH_SIZE, drop_remainder=True)\n",
    "    .prefetch(tf.data.experimental.AUTOTUNE)\n",
    ")\n",
    "dataset"
   ]
  },
  {
   "cell_type": "markdown",
   "metadata": {},
   "source": [
    "## Build The Model"
   ]
  },
  {
   "cell_type": "code",
   "execution_count": 39,
   "metadata": {},
   "outputs": [],
   "source": [
    "# Length of the vocabulary in chars\n",
    "vocab_size = len(vocab)\n",
    "\n",
    "# The embedding dimension\n",
    "embedding_dim = 256\n",
    "\n",
    "# Number of RNN units\n",
    "rnn_units = 1024"
   ]
  },
  {
   "cell_type": "code",
   "execution_count": 40,
   "metadata": {},
   "outputs": [],
   "source": [
    "class MyModel(tf.keras.Model):\n",
    "    def __init__(\n",
    "        self, \n",
    "        vocab_size, \n",
    "        embedding_dim, \n",
    "        rnn_units\n",
    "    ):\n",
    "        super().__init__(self)\n",
    "        self.embedding = tf.keras.layers.Embedding(\n",
    "            vocab_size,\n",
    "            embedding_dim\n",
    "        )\n",
    "        self.gru = tf.keras.layers.GRU(\n",
    "            rnn_units,\n",
    "            return_sequences=True,\n",
    "            return_state=True\n",
    "        )\n",
    "        self.dense = tf.keras.layers.Dense(vocab_size)\n",
    "    \n",
    "    def call(\n",
    "        self,\n",
    "        inputs,\n",
    "        states=None,\n",
    "        return_state=False,\n",
    "        training=False\n",
    "    ):\n",
    "        x = inputs\n",
    "        x = self.embedding(x, training=training)\n",
    "        if states is None:\n",
    "            states = self.gru.get_initial_state(x)\n",
    "        x, states = self.gru(\n",
    "            x,\n",
    "            initial_state=states,\n",
    "            training=training\n",
    "        )\n",
    "        x = self.dense(x, training=training)\n",
    "\n",
    "        if return_state:\n",
    "            return x, states\n",
    "        else:\n",
    "            return x"
   ]
  },
  {
   "cell_type": "code",
   "execution_count": 41,
   "metadata": {},
   "outputs": [],
   "source": [
    "model = MyModel(\n",
    "    # Be sure the vocabulary size matches the `StringLookup`\n",
    "    # layers.\n",
    "    vocab_size=len(ids_from_chars.get_vocabulary()),\n",
    "    embedding_dim=embedding_dim,\n",
    "    rnn_units=rnn_units\n",
    ")"
   ]
  },
  {
   "cell_type": "markdown",
   "metadata": {},
   "source": [
    "## Try the model"
   ]
  },
  {
   "cell_type": "code",
   "execution_count": 42,
   "metadata": {},
   "outputs": [
    {
     "name": "stderr",
     "output_type": "stream",
     "text": [
      "2022-03-09 02:37:17.886856: I tensorflow/stream_executor/cuda/cuda_dnn.cc:368] Loaded cuDNN version 8200\n"
     ]
    },
    {
     "name": "stdout",
     "output_type": "stream",
     "text": [
      "(64, 100, 171)# (batch_size, sequence_length, vocab_size)\n"
     ]
    }
   ],
   "source": [
    "# Check the shape of the output\n",
    "for input_example_batch, target_example_batch in dataset.take(1):\n",
    "    example_batch_predictions = model(input_example_batch)\n",
    "    print(f\"{example_batch_predictions.shape}# (batch_size, sequence_length, vocab_size)\")"
   ]
  },
  {
   "cell_type": "code",
   "execution_count": 43,
   "metadata": {},
   "outputs": [
    {
     "name": "stdout",
     "output_type": "stream",
     "text": [
      "Model: \"my_model\"\n",
      "_________________________________________________________________\n",
      " Layer (type)                Output Shape              Param #   \n",
      "=================================================================\n",
      " embedding (Embedding)       multiple                  43776     \n",
      "                                                                 \n",
      " gru (GRU)                   multiple                  3938304   \n",
      "                                                                 \n",
      " dense (Dense)               multiple                  175275    \n",
      "                                                                 \n",
      "=================================================================\n",
      "Total params: 4,157,355\n",
      "Trainable params: 4,157,355\n",
      "Non-trainable params: 0\n",
      "_________________________________________________________________\n"
     ]
    }
   ],
   "source": [
    "model.summary()"
   ]
  },
  {
   "cell_type": "code",
   "execution_count": 44,
   "metadata": {},
   "outputs": [],
   "source": [
    "sampled_indices = tf.random.categorical(\n",
    "    example_batch_predictions[0],\n",
    "    num_samples=1\n",
    ")\n",
    "sampled_indices = tf.squeeze(\n",
    "    sampled_indices,\n",
    "    axis=-1\n",
    ").numpy()"
   ]
  },
  {
   "cell_type": "code",
   "execution_count": 45,
   "metadata": {},
   "outputs": [
    {
     "data": {
      "text/plain": [
       "array([  0,  11, 116,   7, 114,   5,  21, 119,  10, 145,  87,  65, 162,\n",
       "       165,  31,  32,  33,  42,  38,  38,  34, 151,  85,  55,  57, 169,\n",
       "        13,  65,  88, 160, 101,  69,  14,   4,  42,  50, 149, 141,   5,\n",
       "        97, 151,  50, 114,  49, 160, 123, 169, 132, 108,  89, 148, 131,\n",
       "       142, 121,  90,  22, 126, 166,  22,  48, 112,  73, 169,  23,   3,\n",
       "       161, 155,  91,  25, 102, 119, 154,  23,  82,  91,  71, 132,   5,\n",
       "        81,   8,  46, 169,  86, 122,  43,   8, 140, 147,  19,  51, 166,\n",
       "       101,  22, 109,  33, 116, 136,  19, 140, 125])"
      ]
     },
     "execution_count": 45,
     "metadata": {},
     "output_type": "execute_result"
    }
   ],
   "source": [
    "sampled_indices"
   ]
  },
  {
   "cell_type": "code",
   "execution_count": 46,
   "metadata": {},
   "outputs": [
    {
     "name": "stdout",
     "output_type": "stream",
     "text": [
      "Input:\n",
      "b'it on any calculator\\nLol you do realize 0\\xe2\\x81\\xb0 = 1 right? \\xf0\\x9f\\x98\\x82\\xf0\\x9f\\x98\\x82\\xf0\\x9f\\x98\\x82\\nI was making an observation at your puny a'\n",
      "\n",
      "Next Char Predictions:\n",
      "[UNK]*⁰&”#4☹)😦zd🤬🥰?@AJFFB😵xWY🧐,d🤦पh-\"JR😱😔#ʔ😵R”Q🤦🅱🧐😁ह😭🔥😠❗×5👋🥵5P’l🧐6!🤨🙄æ8भ☹🙂6uæj😁#t'N🧐y️K'😐😬2S🥵प5ाA⁰😊2😐👀\n"
     ]
    }
   ],
   "source": [
    "print(f\"Input:\\n{text_from_ids(input_example_batch[0].numpy())}\\n\")\n",
    "print(f\"Next Char Predictions:\\n{text_from_ids(sampled_indices).numpy().decode('utf-8')}\")"
   ]
  },
  {
   "cell_type": "markdown",
   "metadata": {},
   "source": [
    "## Train the model\n",
    "### Attach an optimizer, and a loss function"
   ]
  },
  {
   "cell_type": "code",
   "execution_count": 47,
   "metadata": {},
   "outputs": [],
   "source": [
    "loss = tf.losses.SparseCategoricalCrossentropy(\n",
    "    from_logits=True\n",
    ")"
   ]
  },
  {
   "cell_type": "code",
   "execution_count": 48,
   "metadata": {},
   "outputs": [
    {
     "name": "stdout",
     "output_type": "stream",
     "text": [
      "Prediction shape:\t\t(64, 100, 171) # (batch_size, sequence_length, vocab_size)\n",
      "Mean loss:\t\t\t5.141695499420166\n"
     ]
    }
   ],
   "source": [
    "example_batch_mean_loss = loss(\n",
    "    target_example_batch,\n",
    "    example_batch_predictions,\n",
    ")\n",
    "print(f\"Prediction shape:\\t\\t{example_batch_predictions.shape} # (batch_size, sequence_length, vocab_size)\")\n",
    "print(f\"Mean loss:\\t\\t\\t{example_batch_mean_loss}\")"
   ]
  },
  {
   "cell_type": "code",
   "execution_count": 49,
   "metadata": {},
   "outputs": [
    {
     "data": {
      "text/plain": [
       "171.00546"
      ]
     },
     "execution_count": 49,
     "metadata": {},
     "output_type": "execute_result"
    }
   ],
   "source": [
    "tf.exp(example_batch_mean_loss).numpy()"
   ]
  },
  {
   "cell_type": "code",
   "execution_count": 50,
   "metadata": {},
   "outputs": [],
   "source": [
    "model.compile(\n",
    "    optimizer=\"adam\",\n",
    "    loss=loss\n",
    ")"
   ]
  },
  {
   "cell_type": "markdown",
   "metadata": {},
   "source": [
    "### Configure checkpoints"
   ]
  },
  {
   "cell_type": "code",
   "execution_count": 51,
   "metadata": {},
   "outputs": [],
   "source": [
    "# Directory where the checkpoints will be saved\n",
    "checkpoint_dir=\"./models/xkaubu\"\n",
    "# Name of the checkpoint files\n",
    "checkpoint_prefix = os.path.join(\n",
    "    checkpoint_dir,\n",
    "    \"ckpt_{epoch}\"\n",
    ")\n",
    "\n",
    "checkpoint_callback = tf.keras.callbacks.ModelCheckpoint(\n",
    "    filepath=checkpoint_prefix,\n",
    "    save_weights_only=True\n",
    ")"
   ]
  },
  {
   "cell_type": "markdown",
   "metadata": {},
   "source": [
    "### Execute the training"
   ]
  },
  {
   "cell_type": "code",
   "execution_count": 76,
   "metadata": {},
   "outputs": [],
   "source": [
    "EPOCHS = 300"
   ]
  },
  {
   "cell_type": "code",
   "execution_count": 77,
   "metadata": {},
   "outputs": [
    {
     "name": "stdout",
     "output_type": "stream",
     "text": [
      "Epoch 1/300\n",
      "14/14 [==============================] - 1s 97ms/step - loss: 0.0406\n",
      "Epoch 2/300\n",
      "14/14 [==============================] - 1s 94ms/step - loss: 0.0409\n",
      "Epoch 3/300\n",
      "14/14 [==============================] - 2s 89ms/step - loss: 0.0406\n",
      "Epoch 4/300\n",
      "14/14 [==============================] - 1s 92ms/step - loss: 0.0408\n",
      "Epoch 5/300\n",
      "14/14 [==============================] - 1s 91ms/step - loss: 0.0405\n",
      "Epoch 6/300\n",
      "14/14 [==============================] - 1s 88ms/step - loss: 0.0405\n",
      "Epoch 7/300\n",
      "14/14 [==============================] - 2s 100ms/step - loss: 0.0409\n",
      "Epoch 8/300\n",
      "14/14 [==============================] - 2s 99ms/step - loss: 0.0410\n",
      "Epoch 9/300\n",
      "14/14 [==============================] - 1s 96ms/step - loss: 0.0407\n",
      "Epoch 10/300\n",
      "14/14 [==============================] - 1s 91ms/step - loss: 0.0409\n",
      "Epoch 11/300\n",
      "14/14 [==============================] - 2s 104ms/step - loss: 0.0409\n",
      "Epoch 12/300\n",
      "14/14 [==============================] - 1s 99ms/step - loss: 0.0407\n",
      "Epoch 13/300\n",
      "14/14 [==============================] - 1s 99ms/step - loss: 0.0410\n",
      "Epoch 14/300\n",
      "14/14 [==============================] - 1s 93ms/step - loss: 0.0412\n",
      "Epoch 15/300\n",
      "14/14 [==============================] - 2s 105ms/step - loss: 0.0412\n",
      "Epoch 16/300\n",
      "14/14 [==============================] - 2s 107ms/step - loss: 0.0409\n",
      "Epoch 17/300\n",
      "14/14 [==============================] - 2s 98ms/step - loss: 0.0409\n",
      "Epoch 18/300\n",
      "14/14 [==============================] - 1s 96ms/step - loss: 0.0408\n",
      "Epoch 19/300\n",
      "14/14 [==============================] - 1s 98ms/step - loss: 0.0408\n",
      "Epoch 20/300\n",
      "14/14 [==============================] - 1s 93ms/step - loss: 0.0408\n",
      "Epoch 21/300\n",
      "14/14 [==============================] - 1s 96ms/step - loss: 0.0410\n",
      "Epoch 22/300\n",
      "14/14 [==============================] - 2s 113ms/step - loss: 0.0409\n",
      "Epoch 23/300\n",
      "14/14 [==============================] - 2s 103ms/step - loss: 0.0407\n",
      "Epoch 24/300\n",
      "14/14 [==============================] - 1s 93ms/step - loss: 0.0410\n",
      "Epoch 25/300\n",
      "14/14 [==============================] - 2s 107ms/step - loss: 0.0413\n",
      "Epoch 26/300\n",
      "14/14 [==============================] - 1s 93ms/step - loss: 0.0417\n",
      "Epoch 27/300\n",
      "14/14 [==============================] - 2s 98ms/step - loss: 0.0415\n",
      "Epoch 28/300\n",
      "14/14 [==============================] - 2s 116ms/step - loss: 0.0413\n",
      "Epoch 29/300\n",
      "14/14 [==============================] - 3s 180ms/step - loss: 0.0411\n",
      "Epoch 30/300\n",
      "14/14 [==============================] - 2s 118ms/step - loss: 0.0413\n",
      "Epoch 31/300\n",
      "14/14 [==============================] - 2s 104ms/step - loss: 0.0412\n",
      "Epoch 32/300\n",
      "14/14 [==============================] - 2s 116ms/step - loss: 0.0408\n",
      "Epoch 33/300\n",
      "14/14 [==============================] - 2s 98ms/step - loss: 0.0410\n",
      "Epoch 34/300\n",
      "14/14 [==============================] - 2s 100ms/step - loss: 0.0410\n",
      "Epoch 35/300\n",
      "14/14 [==============================] - 2s 107ms/step - loss: 0.0413\n",
      "Epoch 36/300\n",
      "14/14 [==============================] - 2s 122ms/step - loss: 0.0410\n",
      "Epoch 37/300\n",
      "14/14 [==============================] - 2s 118ms/step - loss: 0.0410\n",
      "Epoch 38/300\n",
      "14/14 [==============================] - 2s 105ms/step - loss: 0.0408\n",
      "Epoch 39/300\n",
      "14/14 [==============================] - 2s 92ms/step - loss: 0.0409\n",
      "Epoch 40/300\n",
      "14/14 [==============================] - 1s 96ms/step - loss: 0.0408\n",
      "Epoch 41/300\n",
      "14/14 [==============================] - 1s 100ms/step - loss: 0.0407\n",
      "Epoch 42/300\n",
      "14/14 [==============================] - 2s 105ms/step - loss: 0.0408\n",
      "Epoch 43/300\n",
      "14/14 [==============================] - 2s 105ms/step - loss: 0.0411\n",
      "Epoch 44/300\n",
      "14/14 [==============================] - 2s 109ms/step - loss: 0.0407\n",
      "Epoch 45/300\n",
      "14/14 [==============================] - 2s 101ms/step - loss: 0.0411\n",
      "Epoch 46/300\n",
      "14/14 [==============================] - 2s 125ms/step - loss: 0.0409\n",
      "Epoch 47/300\n",
      "14/14 [==============================] - 2s 109ms/step - loss: 0.0405\n",
      "Epoch 48/300\n",
      "14/14 [==============================] - 2s 111ms/step - loss: 0.0407\n",
      "Epoch 49/300\n",
      "14/14 [==============================] - 2s 107ms/step - loss: 0.0406\n",
      "Epoch 50/300\n",
      "14/14 [==============================] - 2s 104ms/step - loss: 0.0409\n",
      "Epoch 51/300\n",
      "14/14 [==============================] - 2s 94ms/step - loss: 0.0411\n",
      "Epoch 52/300\n",
      "14/14 [==============================] - 1s 92ms/step - loss: 0.0411\n",
      "Epoch 53/300\n",
      "14/14 [==============================] - 1s 97ms/step - loss: 0.0406\n",
      "Epoch 54/300\n",
      "14/14 [==============================] - 1s 97ms/step - loss: 0.0409\n",
      "Epoch 55/300\n",
      "14/14 [==============================] - 1s 97ms/step - loss: 0.0409\n",
      "Epoch 56/300\n",
      "14/14 [==============================] - 2s 89ms/step - loss: 0.0409\n",
      "Epoch 57/300\n",
      "14/14 [==============================] - 1s 93ms/step - loss: 0.0408\n",
      "Epoch 58/300\n",
      "14/14 [==============================] - 1s 95ms/step - loss: 0.0409\n",
      "Epoch 59/300\n",
      "14/14 [==============================] - 1s 96ms/step - loss: 0.0409\n",
      "Epoch 60/300\n",
      "14/14 [==============================] - 1s 92ms/step - loss: 0.0406\n",
      "Epoch 61/300\n",
      "14/14 [==============================] - 1s 94ms/step - loss: 0.0407\n",
      "Epoch 62/300\n",
      "14/14 [==============================] - 2s 115ms/step - loss: 0.0406\n",
      "Epoch 63/300\n",
      "14/14 [==============================] - 1s 93ms/step - loss: 0.0409\n",
      "Epoch 64/300\n",
      "14/14 [==============================] - 2s 100ms/step - loss: 0.0413\n",
      "Epoch 65/300\n",
      "14/14 [==============================] - 2s 98ms/step - loss: 0.0414\n",
      "Epoch 66/300\n",
      "14/14 [==============================] - 1s 92ms/step - loss: 0.0412\n",
      "Epoch 67/300\n",
      "14/14 [==============================] - 1s 96ms/step - loss: 0.0411\n",
      "Epoch 68/300\n",
      "14/14 [==============================] - 1s 95ms/step - loss: 0.0408\n",
      "Epoch 69/300\n",
      "14/14 [==============================] - 1s 98ms/step - loss: 0.0409\n",
      "Epoch 70/300\n",
      "14/14 [==============================] - 1s 95ms/step - loss: 0.0408\n",
      "Epoch 71/300\n",
      "14/14 [==============================] - 1s 99ms/step - loss: 0.0409\n",
      "Epoch 72/300\n",
      "14/14 [==============================] - 1s 90ms/step - loss: 0.0407\n",
      "Epoch 73/300\n",
      "14/14 [==============================] - 1s 92ms/step - loss: 0.0407\n",
      "Epoch 74/300\n",
      "14/14 [==============================] - 1s 97ms/step - loss: 0.0407\n",
      "Epoch 75/300\n",
      "14/14 [==============================] - 1s 93ms/step - loss: 0.0409\n",
      "Epoch 76/300\n",
      "14/14 [==============================] - 1s 93ms/step - loss: 0.0410\n",
      "Epoch 77/300\n",
      "14/14 [==============================] - 1s 99ms/step - loss: 0.0410\n",
      "Epoch 78/300\n",
      "14/14 [==============================] - 2s 101ms/step - loss: 0.0408\n",
      "Epoch 79/300\n",
      "14/14 [==============================] - 1s 96ms/step - loss: 0.0407\n",
      "Epoch 80/300\n",
      "14/14 [==============================] - 2s 102ms/step - loss: 0.0408\n",
      "Epoch 81/300\n",
      "14/14 [==============================] - 1s 90ms/step - loss: 0.0408\n",
      "Epoch 82/300\n",
      "14/14 [==============================] - 2s 105ms/step - loss: 0.0406\n",
      "Epoch 83/300\n",
      "14/14 [==============================] - 1s 95ms/step - loss: 0.0408\n",
      "Epoch 84/300\n",
      "14/14 [==============================] - 1s 92ms/step - loss: 0.0408\n",
      "Epoch 85/300\n",
      "14/14 [==============================] - 1s 99ms/step - loss: 0.0410\n",
      "Epoch 86/300\n",
      "14/14 [==============================] - 1s 92ms/step - loss: 0.0409\n",
      "Epoch 87/300\n",
      "14/14 [==============================] - 2s 108ms/step - loss: 0.0409\n",
      "Epoch 88/300\n",
      "14/14 [==============================] - 2s 97ms/step - loss: 0.0409\n",
      "Epoch 89/300\n",
      "14/14 [==============================] - 1s 96ms/step - loss: 0.0410\n",
      "Epoch 90/300\n",
      "14/14 [==============================] - 2s 89ms/step - loss: 0.0413\n",
      "Epoch 91/300\n",
      "14/14 [==============================] - 1s 93ms/step - loss: 0.0422\n",
      "Epoch 92/300\n",
      "14/14 [==============================] - 1s 95ms/step - loss: 0.0420\n",
      "Epoch 93/300\n",
      "14/14 [==============================] - 1s 94ms/step - loss: 0.0412\n",
      "Epoch 94/300\n",
      "14/14 [==============================] - 2s 101ms/step - loss: 0.0415\n",
      "Epoch 95/300\n",
      "14/14 [==============================] - 2s 102ms/step - loss: 0.0413\n",
      "Epoch 96/300\n",
      "14/14 [==============================] - 1s 95ms/step - loss: 0.0410\n",
      "Epoch 97/300\n",
      "14/14 [==============================] - 2s 99ms/step - loss: 0.0416\n",
      "Epoch 98/300\n",
      "14/14 [==============================] - 2s 99ms/step - loss: 0.0420\n",
      "Epoch 99/300\n",
      "14/14 [==============================] - 2s 105ms/step - loss: 0.0423\n",
      "Epoch 100/300\n",
      "14/14 [==============================] - 1s 96ms/step - loss: 0.0427\n",
      "Epoch 101/300\n",
      "14/14 [==============================] - 1s 94ms/step - loss: 0.0456\n",
      "Epoch 102/300\n",
      "14/14 [==============================] - 1s 92ms/step - loss: 0.0590\n",
      "Epoch 103/300\n",
      "14/14 [==============================] - 1s 101ms/step - loss: 0.1846\n",
      "Epoch 104/300\n",
      "14/14 [==============================] - 1s 98ms/step - loss: 0.5667\n",
      "Epoch 105/300\n",
      "14/14 [==============================] - 1s 94ms/step - loss: 0.7165\n",
      "Epoch 106/300\n",
      "14/14 [==============================] - 1s 96ms/step - loss: 0.6040\n",
      "Epoch 107/300\n",
      "14/14 [==============================] - 2s 101ms/step - loss: 0.4493\n",
      "Epoch 108/300\n",
      "14/14 [==============================] - 1s 95ms/step - loss: 0.3157\n",
      "Epoch 109/300\n",
      "14/14 [==============================] - 1s 96ms/step - loss: 0.2214\n",
      "Epoch 110/300\n",
      "14/14 [==============================] - 1s 100ms/step - loss: 0.1548\n",
      "Epoch 111/300\n",
      "14/14 [==============================] - 1s 97ms/step - loss: 0.1135\n",
      "Epoch 112/300\n",
      "14/14 [==============================] - 1s 96ms/step - loss: 0.0837\n",
      "Epoch 113/300\n",
      "14/14 [==============================] - 1s 92ms/step - loss: 0.0652\n",
      "Epoch 114/300\n",
      "14/14 [==============================] - 1s 94ms/step - loss: 0.0543\n",
      "Epoch 115/300\n",
      "14/14 [==============================] - 1s 93ms/step - loss: 0.0489\n",
      "Epoch 116/300\n",
      "14/14 [==============================] - 2s 92ms/step - loss: 0.0459\n",
      "Epoch 117/300\n",
      "14/14 [==============================] - 1s 91ms/step - loss: 0.0444\n",
      "Epoch 118/300\n",
      "14/14 [==============================] - 2s 91ms/step - loss: 0.0437\n",
      "Epoch 119/300\n",
      "14/14 [==============================] - 1s 95ms/step - loss: 0.0432\n",
      "Epoch 120/300\n",
      "14/14 [==============================] - 2s 103ms/step - loss: 0.0426\n",
      "Epoch 121/300\n",
      "14/14 [==============================] - 1s 96ms/step - loss: 0.0425\n",
      "Epoch 122/300\n",
      "14/14 [==============================] - 1s 89ms/step - loss: 0.0423\n",
      "Epoch 123/300\n",
      "14/14 [==============================] - 2s 101ms/step - loss: 0.0423\n",
      "Epoch 124/300\n",
      "14/14 [==============================] - 1s 96ms/step - loss: 0.0419\n",
      "Epoch 125/300\n",
      "14/14 [==============================] - 1s 96ms/step - loss: 0.0417\n",
      "Epoch 126/300\n",
      "14/14 [==============================] - 2s 117ms/step - loss: 0.0415\n",
      "Epoch 127/300\n",
      "14/14 [==============================] - 1s 96ms/step - loss: 0.0415\n",
      "Epoch 128/300\n",
      "14/14 [==============================] - 2s 100ms/step - loss: 0.0416\n",
      "Epoch 129/300\n",
      "14/14 [==============================] - 1s 95ms/step - loss: 0.0415\n",
      "Epoch 130/300\n",
      "14/14 [==============================] - 1s 93ms/step - loss: 0.0415\n",
      "Epoch 131/300\n",
      "14/14 [==============================] - 2s 93ms/step - loss: 0.0412\n",
      "Epoch 132/300\n",
      "14/14 [==============================] - 2s 102ms/step - loss: 0.0414\n",
      "Epoch 133/300\n",
      "14/14 [==============================] - 1s 100ms/step - loss: 0.0411\n",
      "Epoch 134/300\n",
      "14/14 [==============================] - 2s 113ms/step - loss: 0.0412\n",
      "Epoch 135/300\n",
      "14/14 [==============================] - 2s 106ms/step - loss: 0.0409\n",
      "Epoch 136/300\n",
      "14/14 [==============================] - 1s 94ms/step - loss: 0.0408\n",
      "Epoch 137/300\n",
      "14/14 [==============================] - 1s 94ms/step - loss: 0.0408\n",
      "Epoch 138/300\n",
      "14/14 [==============================] - 1s 95ms/step - loss: 0.0407\n",
      "Epoch 139/300\n",
      "14/14 [==============================] - 1s 98ms/step - loss: 0.0408\n",
      "Epoch 140/300\n",
      "14/14 [==============================] - 2s 108ms/step - loss: 0.0409\n",
      "Epoch 141/300\n",
      "14/14 [==============================] - 2s 109ms/step - loss: 0.0409\n",
      "Epoch 142/300\n",
      "14/14 [==============================] - 2s 106ms/step - loss: 0.0406\n",
      "Epoch 143/300\n",
      "14/14 [==============================] - 2s 103ms/step - loss: 0.0407\n",
      "Epoch 144/300\n",
      "14/14 [==============================] - 1s 97ms/step - loss: 0.0406\n",
      "Epoch 145/300\n",
      "14/14 [==============================] - 1s 94ms/step - loss: 0.0406\n",
      "Epoch 146/300\n",
      "14/14 [==============================] - 2s 111ms/step - loss: 0.0407\n",
      "Epoch 147/300\n",
      "14/14 [==============================] - 2s 96ms/step - loss: 0.0406\n",
      "Epoch 148/300\n",
      "14/14 [==============================] - 1s 96ms/step - loss: 0.0403\n",
      "Epoch 149/300\n",
      "14/14 [==============================] - 1s 95ms/step - loss: 0.0402\n",
      "Epoch 150/300\n",
      "14/14 [==============================] - 1s 97ms/step - loss: 0.0405\n",
      "Epoch 151/300\n",
      "14/14 [==============================] - 1s 95ms/step - loss: 0.0404\n",
      "Epoch 152/300\n",
      "14/14 [==============================] - 1s 98ms/step - loss: 0.0403\n",
      "Epoch 153/300\n",
      "14/14 [==============================] - 2s 116ms/step - loss: 0.0405\n",
      "Epoch 154/300\n",
      "14/14 [==============================] - 2s 106ms/step - loss: 0.0405\n",
      "Epoch 155/300\n",
      "14/14 [==============================] - 2s 99ms/step - loss: 0.0402\n",
      "Epoch 156/300\n",
      "14/14 [==============================] - 2s 111ms/step - loss: 0.0404\n",
      "Epoch 157/300\n",
      "14/14 [==============================] - 2s 102ms/step - loss: 0.0404\n",
      "Epoch 158/300\n",
      "14/14 [==============================] - 2s 109ms/step - loss: 0.0403\n",
      "Epoch 159/300\n",
      "14/14 [==============================] - 2s 103ms/step - loss: 0.0402\n",
      "Epoch 160/300\n",
      "14/14 [==============================] - 2s 109ms/step - loss: 0.0404\n",
      "Epoch 161/300\n",
      "14/14 [==============================] - 2s 117ms/step - loss: 0.0406\n",
      "Epoch 162/300\n",
      "14/14 [==============================] - 2s 105ms/step - loss: 0.0404\n",
      "Epoch 163/300\n",
      "14/14 [==============================] - 2s 117ms/step - loss: 0.0403\n",
      "Epoch 164/300\n",
      "14/14 [==============================] - 2s 102ms/step - loss: 0.0403\n",
      "Epoch 165/300\n",
      "14/14 [==============================] - 2s 111ms/step - loss: 0.0403\n",
      "Epoch 166/300\n",
      "14/14 [==============================] - 1s 97ms/step - loss: 0.0403\n",
      "Epoch 167/300\n",
      "14/14 [==============================] - 1s 97ms/step - loss: 0.0403\n",
      "Epoch 168/300\n",
      "14/14 [==============================] - 1s 94ms/step - loss: 0.0401\n",
      "Epoch 169/300\n",
      "14/14 [==============================] - 1s 95ms/step - loss: 0.0400\n",
      "Epoch 170/300\n",
      "14/14 [==============================] - 1s 91ms/step - loss: 0.0405\n",
      "Epoch 171/300\n",
      "14/14 [==============================] - 1s 93ms/step - loss: 0.0403\n",
      "Epoch 172/300\n",
      "14/14 [==============================] - 1s 96ms/step - loss: 0.0403\n",
      "Epoch 173/300\n",
      "14/14 [==============================] - 1s 92ms/step - loss: 0.0402\n",
      "Epoch 174/300\n",
      "14/14 [==============================] - 1s 91ms/step - loss: 0.0402\n",
      "Epoch 175/300\n",
      "14/14 [==============================] - 2s 104ms/step - loss: 0.0402\n",
      "Epoch 176/300\n",
      "14/14 [==============================] - 2s 109ms/step - loss: 0.0402\n",
      "Epoch 177/300\n",
      "14/14 [==============================] - 1s 93ms/step - loss: 0.0403\n",
      "Epoch 178/300\n",
      "14/14 [==============================] - 1s 93ms/step - loss: 0.0402\n",
      "Epoch 179/300\n",
      "14/14 [==============================] - 1s 97ms/step - loss: 0.0401\n",
      "Epoch 180/300\n",
      "14/14 [==============================] - 1s 95ms/step - loss: 0.0401\n",
      "Epoch 181/300\n",
      "14/14 [==============================] - 1s 96ms/step - loss: 0.0402\n",
      "Epoch 182/300\n",
      "14/14 [==============================] - 2s 101ms/step - loss: 0.0402\n",
      "Epoch 183/300\n",
      "14/14 [==============================] - 1s 98ms/step - loss: 0.0403\n",
      "Epoch 184/300\n",
      "14/14 [==============================] - 1s 88ms/step - loss: 0.0401\n",
      "Epoch 185/300\n",
      "14/14 [==============================] - 1s 92ms/step - loss: 0.0401\n",
      "Epoch 186/300\n",
      "14/14 [==============================] - 1s 93ms/step - loss: 0.0401\n",
      "Epoch 187/300\n",
      "14/14 [==============================] - 1s 92ms/step - loss: 0.0401\n",
      "Epoch 188/300\n",
      "14/14 [==============================] - 2s 95ms/step - loss: 0.0406\n",
      "Epoch 189/300\n",
      "14/14 [==============================] - 1s 94ms/step - loss: 0.0403\n",
      "Epoch 190/300\n",
      "14/14 [==============================] - 1s 96ms/step - loss: 0.0404\n",
      "Epoch 191/300\n",
      "14/14 [==============================] - 1s 94ms/step - loss: 0.0405\n",
      "Epoch 192/300\n",
      "14/14 [==============================] - 2s 113ms/step - loss: 0.0402\n",
      "Epoch 193/300\n",
      "14/14 [==============================] - 1s 96ms/step - loss: 0.0403\n",
      "Epoch 194/300\n",
      "14/14 [==============================] - 1s 93ms/step - loss: 0.0404\n",
      "Epoch 195/300\n",
      "14/14 [==============================] - 1s 94ms/step - loss: 0.0403\n",
      "Epoch 196/300\n",
      "14/14 [==============================] - 2s 93ms/step - loss: 0.0405\n",
      "Epoch 197/300\n",
      "14/14 [==============================] - 1s 96ms/step - loss: 0.0402\n",
      "Epoch 198/300\n",
      "14/14 [==============================] - 2s 103ms/step - loss: 0.0400\n",
      "Epoch 199/300\n",
      "14/14 [==============================] - 1s 92ms/step - loss: 0.0403\n",
      "Epoch 200/300\n",
      "14/14 [==============================] - 2s 103ms/step - loss: 0.0402\n",
      "Epoch 201/300\n",
      "14/14 [==============================] - 2s 101ms/step - loss: 0.0402\n",
      "Epoch 202/300\n",
      "14/14 [==============================] - 1s 90ms/step - loss: 0.0403\n",
      "Epoch 203/300\n",
      "14/14 [==============================] - 1s 99ms/step - loss: 0.0402\n",
      "Epoch 204/300\n",
      "14/14 [==============================] - 1s 98ms/step - loss: 0.0401\n",
      "Epoch 205/300\n",
      "14/14 [==============================] - 1s 90ms/step - loss: 0.0402\n",
      "Epoch 206/300\n",
      "14/14 [==============================] - 2s 101ms/step - loss: 0.0401\n",
      "Epoch 207/300\n",
      "14/14 [==============================] - 2s 105ms/step - loss: 0.0401\n",
      "Epoch 208/300\n",
      "14/14 [==============================] - 1s 94ms/step - loss: 0.0402\n",
      "Epoch 209/300\n",
      "14/14 [==============================] - 1s 94ms/step - loss: 0.0403\n",
      "Epoch 210/300\n",
      "14/14 [==============================] - 2s 102ms/step - loss: 0.0403\n",
      "Epoch 211/300\n",
      "14/14 [==============================] - 2s 104ms/step - loss: 0.0403\n",
      "Epoch 212/300\n",
      "14/14 [==============================] - 1s 95ms/step - loss: 0.0404\n",
      "Epoch 213/300\n",
      "14/14 [==============================] - 1s 96ms/step - loss: 0.0404\n",
      "Epoch 214/300\n",
      "14/14 [==============================] - 1s 98ms/step - loss: 0.0401\n",
      "Epoch 215/300\n",
      "14/14 [==============================] - 1s 94ms/step - loss: 0.0402\n",
      "Epoch 216/300\n",
      "14/14 [==============================] - 1s 96ms/step - loss: 0.0402\n",
      "Epoch 217/300\n",
      "14/14 [==============================] - 1s 96ms/step - loss: 0.0401\n",
      "Epoch 218/300\n",
      "14/14 [==============================] - 1s 99ms/step - loss: 0.0403\n",
      "Epoch 219/300\n",
      "14/14 [==============================] - 1s 98ms/step - loss: 0.0399\n",
      "Epoch 220/300\n",
      "14/14 [==============================] - 1s 97ms/step - loss: 0.0402\n",
      "Epoch 221/300\n",
      "14/14 [==============================] - 1s 93ms/step - loss: 0.0404\n",
      "Epoch 222/300\n",
      "14/14 [==============================] - 1s 98ms/step - loss: 0.0403\n",
      "Epoch 223/300\n",
      "14/14 [==============================] - 1s 90ms/step - loss: 0.0405\n",
      "Epoch 224/300\n",
      "14/14 [==============================] - 1s 90ms/step - loss: 0.0404\n",
      "Epoch 225/300\n",
      "14/14 [==============================] - 1s 96ms/step - loss: 0.0403\n",
      "Epoch 226/300\n",
      "14/14 [==============================] - 2s 102ms/step - loss: 0.0399\n",
      "Epoch 227/300\n",
      "14/14 [==============================] - 2s 99ms/step - loss: 0.0403\n",
      "Epoch 228/300\n",
      "14/14 [==============================] - 1s 92ms/step - loss: 0.0404\n",
      "Epoch 229/300\n",
      "14/14 [==============================] - 2s 107ms/step - loss: 0.0404\n",
      "Epoch 230/300\n",
      "14/14 [==============================] - 1s 93ms/step - loss: 0.0404\n",
      "Epoch 231/300\n",
      "14/14 [==============================] - 1s 93ms/step - loss: 0.0404\n",
      "Epoch 232/300\n",
      "14/14 [==============================] - 1s 93ms/step - loss: 0.0404\n",
      "Epoch 233/300\n",
      "14/14 [==============================] - 2s 100ms/step - loss: 0.0405\n",
      "Epoch 234/300\n",
      "14/14 [==============================] - 1s 94ms/step - loss: 0.0405\n",
      "Epoch 235/300\n",
      "14/14 [==============================] - 2s 99ms/step - loss: 0.0402\n",
      "Epoch 236/300\n",
      "14/14 [==============================] - 1s 95ms/step - loss: 0.0404\n",
      "Epoch 237/300\n",
      "14/14 [==============================] - 1s 100ms/step - loss: 0.0407\n",
      "Epoch 238/300\n",
      "14/14 [==============================] - 2s 107ms/step - loss: 0.0404\n",
      "Epoch 239/300\n",
      "14/14 [==============================] - 1s 95ms/step - loss: 0.0404\n",
      "Epoch 240/300\n",
      "14/14 [==============================] - 2s 101ms/step - loss: 0.0403\n",
      "Epoch 241/300\n",
      "14/14 [==============================] - 2s 103ms/step - loss: 0.0405\n",
      "Epoch 242/300\n",
      "14/14 [==============================] - 5s 367ms/step - loss: 0.0405\n",
      "Epoch 243/300\n",
      "14/14 [==============================] - 2s 102ms/step - loss: 0.0406\n",
      "Epoch 244/300\n",
      "14/14 [==============================] - 2s 91ms/step - loss: 0.0407\n",
      "Epoch 245/300\n",
      "14/14 [==============================] - 1s 92ms/step - loss: 0.0405\n",
      "Epoch 246/300\n",
      "14/14 [==============================] - 1s 99ms/step - loss: 0.0405\n",
      "Epoch 247/300\n",
      "14/14 [==============================] - 1s 94ms/step - loss: 0.0404\n",
      "Epoch 248/300\n",
      "14/14 [==============================] - 1s 98ms/step - loss: 0.0407\n",
      "Epoch 249/300\n",
      "14/14 [==============================] - 1s 97ms/step - loss: 0.0405\n",
      "Epoch 250/300\n",
      "14/14 [==============================] - 2s 102ms/step - loss: 0.0404\n",
      "Epoch 251/300\n",
      "14/14 [==============================] - 1s 92ms/step - loss: 0.0406\n",
      "Epoch 252/300\n",
      "14/14 [==============================] - 2s 91ms/step - loss: 0.0405\n",
      "Epoch 253/300\n",
      "14/14 [==============================] - 1s 94ms/step - loss: 0.0403\n",
      "Epoch 254/300\n",
      "14/14 [==============================] - 2s 100ms/step - loss: 0.0404\n",
      "Epoch 255/300\n",
      "14/14 [==============================] - 1s 93ms/step - loss: 0.0404\n",
      "Epoch 256/300\n",
      "14/14 [==============================] - 1s 89ms/step - loss: 0.0403\n",
      "Epoch 257/300\n",
      "14/14 [==============================] - 1s 88ms/step - loss: 0.0405\n",
      "Epoch 258/300\n",
      "14/14 [==============================] - 1s 95ms/step - loss: 0.0406\n",
      "Epoch 259/300\n",
      "14/14 [==============================] - 1s 96ms/step - loss: 0.0406\n",
      "Epoch 260/300\n",
      "14/14 [==============================] - 1s 89ms/step - loss: 0.0405\n",
      "Epoch 261/300\n",
      "14/14 [==============================] - 1s 98ms/step - loss: 0.0405\n",
      "Epoch 262/300\n",
      "14/14 [==============================] - 1s 93ms/step - loss: 0.0403\n",
      "Epoch 263/300\n",
      "14/14 [==============================] - 2s 105ms/step - loss: 0.0405\n",
      "Epoch 264/300\n",
      "14/14 [==============================] - 1s 97ms/step - loss: 0.0405\n",
      "Epoch 265/300\n",
      "14/14 [==============================] - 1s 89ms/step - loss: 0.0402\n",
      "Epoch 266/300\n",
      "14/14 [==============================] - 1s 93ms/step - loss: 0.0403\n",
      "Epoch 267/300\n",
      "14/14 [==============================] - 1s 90ms/step - loss: 0.0405\n",
      "Epoch 268/300\n",
      "14/14 [==============================] - 1s 93ms/step - loss: 0.0405\n",
      "Epoch 269/300\n",
      "14/14 [==============================] - 1s 97ms/step - loss: 0.0405\n",
      "Epoch 270/300\n",
      "14/14 [==============================] - 1s 93ms/step - loss: 0.0407\n",
      "Epoch 271/300\n",
      "14/14 [==============================] - 1s 99ms/step - loss: 0.0409\n",
      "Epoch 272/300\n",
      "14/14 [==============================] - 1s 95ms/step - loss: 0.0405\n",
      "Epoch 273/300\n",
      "14/14 [==============================] - 1s 90ms/step - loss: 0.0409\n",
      "Epoch 274/300\n",
      "14/14 [==============================] - 1s 98ms/step - loss: 0.0407\n",
      "Epoch 275/300\n",
      "14/14 [==============================] - 2s 101ms/step - loss: 0.0406\n",
      "Epoch 276/300\n",
      "14/14 [==============================] - 1s 92ms/step - loss: 0.0405\n",
      "Epoch 277/300\n",
      "14/14 [==============================] - 1s 96ms/step - loss: 0.0406\n",
      "Epoch 278/300\n",
      "14/14 [==============================] - 1s 90ms/step - loss: 0.0404\n",
      "Epoch 279/300\n",
      "14/14 [==============================] - 1s 91ms/step - loss: 0.0406\n",
      "Epoch 280/300\n",
      "14/14 [==============================] - 1s 91ms/step - loss: 0.0405\n",
      "Epoch 281/300\n",
      "14/14 [==============================] - 1s 94ms/step - loss: 0.0406\n",
      "Epoch 282/300\n",
      "14/14 [==============================] - 1s 97ms/step - loss: 0.0406\n",
      "Epoch 283/300\n",
      "14/14 [==============================] - 1s 93ms/step - loss: 0.0406\n",
      "Epoch 284/300\n",
      "14/14 [==============================] - 1s 93ms/step - loss: 0.0403\n",
      "Epoch 285/300\n",
      "14/14 [==============================] - 1s 94ms/step - loss: 0.0404\n",
      "Epoch 286/300\n",
      "14/14 [==============================] - 2s 107ms/step - loss: 0.0404\n",
      "Epoch 287/300\n",
      "14/14 [==============================] - 1s 93ms/step - loss: 0.0406\n",
      "Epoch 288/300\n",
      "14/14 [==============================] - 1s 92ms/step - loss: 0.0405\n",
      "Epoch 289/300\n",
      "14/14 [==============================] - 1s 94ms/step - loss: 0.0404\n",
      "Epoch 290/300\n",
      "14/14 [==============================] - 1s 95ms/step - loss: 0.0408\n",
      "Epoch 291/300\n",
      "14/14 [==============================] - 1s 91ms/step - loss: 0.0407\n",
      "Epoch 292/300\n",
      "14/14 [==============================] - 2s 96ms/step - loss: 0.0407\n",
      "Epoch 293/300\n",
      "14/14 [==============================] - 2s 102ms/step - loss: 0.0409\n",
      "Epoch 294/300\n",
      "14/14 [==============================] - 1s 94ms/step - loss: 0.0409\n",
      "Epoch 295/300\n",
      "14/14 [==============================] - 1s 94ms/step - loss: 0.0408\n",
      "Epoch 296/300\n",
      "14/14 [==============================] - 1s 95ms/step - loss: 0.0406\n",
      "Epoch 297/300\n",
      "14/14 [==============================] - 1s 91ms/step - loss: 0.0412\n",
      "Epoch 298/300\n",
      "14/14 [==============================] - 1s 92ms/step - loss: 0.0413\n",
      "Epoch 299/300\n",
      "14/14 [==============================] - 1s 95ms/step - loss: 0.0411\n",
      "Epoch 300/300\n",
      "14/14 [==============================] - 1s 91ms/step - loss: 0.0411\n"
     ]
    }
   ],
   "source": [
    "history = model.fit(\n",
    "    dataset,\n",
    "    epochs=EPOCHS,\n",
    "    callbacks=[checkpoint_callback]\n",
    ")"
   ]
  },
  {
   "cell_type": "markdown",
   "metadata": {},
   "source": [
    "## Generate text"
   ]
  },
  {
   "cell_type": "code",
   "execution_count": 78,
   "metadata": {},
   "outputs": [],
   "source": [
    "# Single step prediction\n",
    "class OneStep(tf.keras.Model):\n",
    "    def __init__(\n",
    "        self,\n",
    "        model,\n",
    "        chars_from_ids,\n",
    "        ids_from_chars,\n",
    "        temperature=1.0\n",
    "    ):\n",
    "        super().__init__()\n",
    "        self.temperature = temperature\n",
    "        self.model = model\n",
    "        self.chars_from_ids = chars_from_ids\n",
    "        self.ids_from_chars = ids_from_chars\n",
    "\n",
    "        # Create a mask to prevent \"[UNK]\" from being\n",
    "        # generated.\n",
    "        skip_ids = self.ids_from_chars(\n",
    "            [\"[UNK]\"]\n",
    "        )[:, None]\n",
    "        sparse_mask = tf.SparseTensor(\n",
    "            # Put a -inf at each bad index\n",
    "            values=[-float(\"inf\")]*len(skip_ids),\n",
    "            indices=skip_ids,\n",
    "            # Match the shape to the vocabulary\n",
    "            dense_shape=[\n",
    "                len(\n",
    "                    ids_from_chars.get_vocabulary()\n",
    "                )\n",
    "            ]\n",
    "        )\n",
    "        self.prediction_mask = tf.sparse.to_dense(\n",
    "            sparse_mask\n",
    "        )\n",
    "    \n",
    "    @tf.function\n",
    "    def generate_one_step(\n",
    "        self,\n",
    "        inputs,\n",
    "        states=None\n",
    "    ):\n",
    "        # Convert strings to token IDs\n",
    "        input_chars = tf.strings.unicode_split(\n",
    "            inputs,\n",
    "            \"UTF-8\"\n",
    "        )\n",
    "        input_ids = self.ids_from_chars(\n",
    "            input_chars\n",
    "        ).to_tensor()\n",
    "\n",
    "        # Run the model\n",
    "        # predicted_logits.shape is\n",
    "        # [batch, char, next_char_logits]\n",
    "        predicted_logits, states = self.model(\n",
    "            inputs=input_ids,\n",
    "            states=states,\n",
    "            return_state=True\n",
    "        )\n",
    "\n",
    "        # Only use the last prediction\n",
    "        predicted_logits = predicted_logits[:, -1, :]\n",
    "        predicted_logits = predicted_logits/self.temperature\n",
    "        # Apply the prediction mask:\n",
    "        # prevent \"[UNK]\" from being generated\n",
    "        predicted_logits = predicted_logits + self.prediction_mask\n",
    "\n",
    "        # Sample the output logits to generate token IDs\n",
    "        predicted_ids = tf.random.categorical(\n",
    "            predicted_logits,\n",
    "            num_samples=1\n",
    "        )\n",
    "        predicted_ids = tf.squeeze(\n",
    "            predicted_ids,\n",
    "            axis=-1\n",
    "        )\n",
    "\n",
    "        # Convert from token IDs to characters\n",
    "        predicted_chars = self.chars_from_ids(\n",
    "            predicted_ids\n",
    "        )\n",
    "\n",
    "        # Return the characters and model state\n",
    "        return predicted_chars, states"
   ]
  },
  {
   "cell_type": "code",
   "execution_count": 79,
   "metadata": {},
   "outputs": [],
   "source": [
    "one_step_model = OneStep(\n",
    "    model,\n",
    "    chars_from_ids,\n",
    "    ids_from_chars\n",
    ")"
   ]
  },
  {
   "cell_type": "markdown",
   "metadata": {},
   "source": [
    "### Actual generation code"
   ]
  },
  {
   "cell_type": "code",
   "execution_count": 82,
   "metadata": {},
   "outputs": [],
   "source": [
    "start = time.time()\n",
    "states = None\n",
    "# Seed ideas:\n",
    "# I, You, I'm, Yo, Who, This, Why, \n",
    "next_char = tf.constant([input(\"Seed: \")])\n",
    "result = [next_char]\n",
    "\n",
    "# Default: 1000\n",
    "CHARS_GEN = 100000\n",
    "\n",
    "for n in range(CHARS_GEN):\n",
    "    next_char, states = one_step_model.generate_one_step(\n",
    "        next_char,\n",
    "        states=states\n",
    "    )\n",
    "    result.append(next_char)\n",
    "\n",
    "# output/ai{VERSION}_{GENERATED FILE NO}{_IF NEW EPOCH}.txt\n",
    "OUT_FILE=\"output/ai3_5_N.txt\"\n",
    "\n",
    "result = tf.strings.join(result)\n",
    "end = time.time()\n",
    "\n",
    "with open(OUT_FILE, \"a\") as f:\n",
    "    f.write(result[0].numpy().decode(\"utf-8\"))\n",
    "\n",
    "print(f\"{result[0].numpy().decode('utf-8')}\\n\\n{'_'*80}\\n\")\n",
    "print(f\"Run time: {end-start}\")"
   ]
  }
 ],
 "metadata": {
  "interpreter": {
   "hash": "916dbcbb3f70747c44a77c7bcd40155683ae19c65e1c03b4aa3499c5328201f1"
  },
  "kernelspec": {
   "display_name": "Python 3.9.7 64-bit",
   "language": "python",
   "name": "python3"
  },
  "language_info": {
   "codemirror_mode": {
    "name": "ipython",
    "version": 3
   },
   "file_extension": ".py",
   "mimetype": "text/x-python",
   "name": "python",
   "nbconvert_exporter": "python",
   "pygments_lexer": "ipython3",
   "version": "3.9.7"
  },
  "orig_nbformat": 4
 },
 "nbformat": 4,
 "nbformat_minor": 2
}
