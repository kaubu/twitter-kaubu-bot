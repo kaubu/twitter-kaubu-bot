{
 "cells": [
  {
   "cell_type": "markdown",
   "metadata": {},
   "source": [
    "# Text AI Generation for Twitter Bot"
   ]
  },
  {
   "cell_type": "markdown",
   "metadata": {},
   "source": [
    "## Setup\n",
    "### Import TensorFlow and other libraries"
   ]
  },
  {
   "cell_type": "code",
   "execution_count": 18,
   "metadata": {},
   "outputs": [],
   "source": [
    "import tensorflow as tf\n",
    "\n",
    "import numpy as np\n",
    "import os\n",
    "import time"
   ]
  },
  {
   "cell_type": "markdown",
   "metadata": {},
   "source": [
    "### Read the data"
   ]
  },
  {
   "cell_type": "code",
   "execution_count": 19,
   "metadata": {},
   "outputs": [
    {
     "name": "stdout",
     "output_type": "stream",
     "text": [
      "Length of text: 93736 characters\n"
     ]
    }
   ],
   "source": [
    "PATH_TO_FILE = \"./datasets/xkaubu_pure.txt\"\n",
    "\n",
    "# Read, then decode for py2 compat\n",
    "text = open(PATH_TO_FILE, \"rb\").read().decode(encoding=\"utf-8\")\n",
    "\n",
    "# Length of text is the number of characters in it\n",
    "print(f\"Length of text: {len(text)} characters\")"
   ]
  },
  {
   "cell_type": "code",
   "execution_count": 20,
   "metadata": {},
   "outputs": [
    {
     "name": "stdout",
     "output_type": "stream",
     "text": [
      "Don't put a space between \"therapist\" 😱😱\n",
      "Worst mistake or my\n",
      "rutracker is literally based in russia...\n",
      "new AOT episode!!\n",
      "I've got 400 lines or so of 357 of my 2955 tweets\n",
      "is this that minecraft painting\n",
      "I can kinda pronounce it\n",
      "YOOOO this is an epic \n"
     ]
    }
   ],
   "source": [
    "# Take a look at the first 250 characters in text\n",
    "print(text[:250])"
   ]
  },
  {
   "cell_type": "code",
   "execution_count": 21,
   "metadata": {},
   "outputs": [
    {
     "name": "stdout",
     "output_type": "stream",
     "text": [
      "170 unique characters\n"
     ]
    }
   ],
   "source": [
    "# The unique characters in the file\n",
    "vocab = sorted(set(text))\n",
    "print(f\"{len(vocab)} unique characters\")"
   ]
  },
  {
   "cell_type": "markdown",
   "metadata": {},
   "source": [
    "## Process the text\n",
    "### Vectorize the text"
   ]
  },
  {
   "cell_type": "code",
   "execution_count": 22,
   "metadata": {},
   "outputs": [
    {
     "data": {
      "text/plain": [
       "<tf.RaggedTensor [[b'a', b'b', b'c', b'd', b'e', b'f', b'g'], [b'x', b'y', b'z']]>"
      ]
     },
     "execution_count": 22,
     "metadata": {},
     "output_type": "execute_result"
    }
   ],
   "source": [
    "example_texts = [\"abcdefg\", \"xyz\"]\n",
    "\n",
    "chars = tf.strings.unicode_split(\n",
    "    example_texts,\n",
    "    input_encoding=\"UTF-8\"\n",
    ")\n",
    "chars"
   ]
  },
  {
   "cell_type": "code",
   "execution_count": 23,
   "metadata": {},
   "outputs": [
    {
     "data": {
      "text/plain": [
       "<tf.RaggedTensor [[62, 63, 64, 65, 66, 67, 68], [85, 86, 87]]>"
      ]
     },
     "execution_count": 23,
     "metadata": {},
     "output_type": "execute_result"
    }
   ],
   "source": [
    "ids_from_chars = tf.keras.layers.StringLookup(\n",
    "    vocabulary=list(vocab),\n",
    "    mask_token=None\n",
    ")\n",
    "\n",
    "# It converts from tokens to character IDs:\n",
    "ids = ids_from_chars(chars)\n",
    "ids"
   ]
  },
  {
   "cell_type": "code",
   "execution_count": 24,
   "metadata": {},
   "outputs": [
    {
     "data": {
      "text/plain": [
       "<tf.RaggedTensor [[b'a', b'b', b'c', b'd', b'e', b'f', b'g'], [b'x', b'y', b'z']]>"
      ]
     },
     "execution_count": 24,
     "metadata": {},
     "output_type": "execute_result"
    }
   ],
   "source": [
    "# To convert the ids back into characters\n",
    "chars_from_ids = tf.keras.layers.StringLookup(\n",
    "    vocabulary=ids_from_chars.get_vocabulary(),\n",
    "    invert=True,\n",
    "    mask_token=None\n",
    ")\n",
    "\n",
    "chars = chars_from_ids(ids)\n",
    "chars"
   ]
  },
  {
   "cell_type": "code",
   "execution_count": 25,
   "metadata": {},
   "outputs": [
    {
     "data": {
      "text/plain": [
       "array([b'abcdefg', b'xyz'], dtype=object)"
      ]
     },
     "execution_count": 25,
     "metadata": {},
     "output_type": "execute_result"
    }
   ],
   "source": [
    "# Join the characters back into strings\n",
    "tf.strings.reduce_join(chars, axis=-1).numpy()"
   ]
  },
  {
   "cell_type": "code",
   "execution_count": 26,
   "metadata": {},
   "outputs": [],
   "source": [
    "def text_from_ids(ids):\n",
    "    return tf.strings.reduce_join(\n",
    "        chars_from_ids(ids),\n",
    "        axis=-1\n",
    "    )"
   ]
  },
  {
   "cell_type": "markdown",
   "metadata": {},
   "source": [
    "### Create training examples and targets"
   ]
  },
  {
   "cell_type": "code",
   "execution_count": 28,
   "metadata": {},
   "outputs": [
    {
     "data": {
      "text/plain": [
       "<tf.Tensor: shape=(93736,), dtype=int64, numpy=array([36, 76, 75, ...,  2, 70, 77])>"
      ]
     },
     "execution_count": 28,
     "metadata": {},
     "output_type": "execute_result"
    }
   ],
   "source": [
    "all_ids = ids_from_chars(\n",
    "    tf.strings.unicode_split(\n",
    "        text,\n",
    "        \"UTF-8\"\n",
    "    )\n",
    ")\n",
    "all_ids"
   ]
  },
  {
   "cell_type": "code",
   "execution_count": 29,
   "metadata": {},
   "outputs": [],
   "source": [
    "ids_dataset = tf.data.Dataset.from_tensor_slices(\n",
    "    all_ids\n",
    ")"
   ]
  },
  {
   "cell_type": "code",
   "execution_count": 30,
   "metadata": {},
   "outputs": [
    {
     "name": "stdout",
     "output_type": "stream",
     "text": [
      "D\n",
      "o\n",
      "n\n",
      "'\n",
      "t\n",
      " \n",
      "p\n",
      "u\n",
      "t\n",
      " \n"
     ]
    }
   ],
   "source": [
    "for ids in ids_dataset.take(10):\n",
    "    print(chars_from_ids(ids).numpy().decode(\"utf-8\"))"
   ]
  },
  {
   "cell_type": "code",
   "execution_count": 31,
   "metadata": {},
   "outputs": [],
   "source": [
    "SEQ_LENGTH = 100\n",
    "examples_per_epoch = len(text)//(SEQ_LENGTH+1)"
   ]
  },
  {
   "cell_type": "code",
   "execution_count": 32,
   "metadata": {},
   "outputs": [
    {
     "name": "stdout",
     "output_type": "stream",
     "text": [
      "tf.Tensor(\n",
      "[b'D' b'o' b'n' b\"'\" b't' b' ' b'p' b'u' b't' b' ' b'a' b' ' b's' b'p'\n",
      " b'a' b'c' b'e' b' ' b'b' b'e' b't' b'w' b'e' b'e' b'n' b' ' b'\"' b't'\n",
      " b'h' b'e' b'r' b'a' b'p' b'i' b's' b't' b'\"' b' ' b'\\xf0\\x9f\\x98\\xb1'\n",
      " b'\\xf0\\x9f\\x98\\xb1' b'\\n' b'W' b'o' b'r' b's' b't' b' ' b'm' b'i' b's'\n",
      " b't' b'a' b'k' b'e' b' ' b'o' b'r' b' ' b'm' b'y' b'\\n' b'r' b'u' b't'\n",
      " b'r' b'a' b'c' b'k' b'e' b'r' b' ' b'i' b's' b' ' b'l' b'i' b't' b'e'\n",
      " b'r' b'a' b'l' b'l' b'y' b' ' b'b' b'a' b's' b'e' b'd' b' ' b'i' b'n'\n",
      " b' ' b'r' b'u' b's' b's' b'i' b'a' b'.' b'.'], shape=(101,), dtype=string)\n"
     ]
    }
   ],
   "source": [
    "# Convert these individual characters to sequences of the desired size\n",
    "\n",
    "sequences = ids_dataset.batch(\n",
    "    SEQ_LENGTH+1,\n",
    "    drop_remainder=True\n",
    ")\n",
    "\n",
    "for seq in sequences.take(1):\n",
    "    print(chars_from_ids(seq))"
   ]
  },
  {
   "cell_type": "code",
   "execution_count": 33,
   "metadata": {},
   "outputs": [
    {
     "name": "stdout",
     "output_type": "stream",
     "text": [
      "b'Don\\'t put a space between \"therapist\" \\xf0\\x9f\\x98\\xb1\\xf0\\x9f\\x98\\xb1\\nWorst mistake or my\\nrutracker is literally based in russia..'\n",
      "b\".\\nnew AOT episode!!\\nI've got 400 lines or so of 357 of my 2955 tweets\\nis this that minecraft painting\"\n",
      "b'\\nI can kinda pronounce it\\nYOOOO this is an epic chungus moment\\nDo better\\nBlocked and unfollowed\\nfair '\n",
      "b\"enough\\ni've been pronouncing it potat\\ndo you pronounce ur name potato or potat?\\n???\\nGot some of my me\"\n",
      "b\"ssages already\\nSpunkbob:\\nGreat insight! But don't think we'll forget about the Assange NFTs\\nLMAO\\ni'm \"\n"
     ]
    }
   ],
   "source": [
    "for seq in sequences.take(5):\n",
    "    print(text_from_ids(seq).numpy())"
   ]
  },
  {
   "cell_type": "code",
   "execution_count": 34,
   "metadata": {},
   "outputs": [],
   "source": [
    "def split_input_target(sequence):\n",
    "    input_text = sequence[:-1]\n",
    "    target_text = sequence[1:]\n",
    "    return input_text, target_text"
   ]
  },
  {
   "cell_type": "code",
   "execution_count": 35,
   "metadata": {},
   "outputs": [
    {
     "data": {
      "text/plain": [
       "(['T', 'e', 'n', 's', 'o', 'r', 'f', 'l', 'o'],\n",
       " ['e', 'n', 's', 'o', 'r', 'f', 'l', 'o', 'w'])"
      ]
     },
     "execution_count": 35,
     "metadata": {},
     "output_type": "execute_result"
    }
   ],
   "source": [
    "split_input_target(\n",
    "    list(\"Tensorflow\")\n",
    ")"
   ]
  },
  {
   "cell_type": "code",
   "execution_count": 36,
   "metadata": {},
   "outputs": [],
   "source": [
    "dataset = sequences.map(split_input_target)"
   ]
  },
  {
   "cell_type": "code",
   "execution_count": 37,
   "metadata": {},
   "outputs": [
    {
     "name": "stdout",
     "output_type": "stream",
     "text": [
      "Input: b'Don\\'t put a space between \"therapist\" \\xf0\\x9f\\x98\\xb1\\xf0\\x9f\\x98\\xb1\\nWorst mistake or my\\nrutracker is literally based in russia.'\n",
      "Target: b'on\\'t put a space between \"therapist\" \\xf0\\x9f\\x98\\xb1\\xf0\\x9f\\x98\\xb1\\nWorst mistake or my\\nrutracker is literally based in russia..'\n"
     ]
    }
   ],
   "source": [
    "for input_example, target_example in dataset.take(1):\n",
    "    print(f\"Input: {text_from_ids(input_example).numpy()}\")\n",
    "    print(f\"Target: {text_from_ids(target_example).numpy()}\")"
   ]
  },
  {
   "cell_type": "markdown",
   "metadata": {},
   "source": [
    "### Create training batches"
   ]
  },
  {
   "cell_type": "code",
   "execution_count": 38,
   "metadata": {},
   "outputs": [
    {
     "data": {
      "text/plain": [
       "<PrefetchDataset element_spec=(TensorSpec(shape=(64, 100), dtype=tf.int64, name=None), TensorSpec(shape=(64, 100), dtype=tf.int64, name=None))>"
      ]
     },
     "execution_count": 38,
     "metadata": {},
     "output_type": "execute_result"
    }
   ],
   "source": [
    "# Batch size\n",
    "BATCH_SIZE = 64\n",
    "\n",
    "# Buffer size to shuffle the dataset\n",
    "# (TF data is designed to work with possibly infinite\n",
    "# sequences, so it doesn't attempt to shuffle the entire\n",
    "# sequence in memory. Instead, it maintains a buffer in\n",
    "# which it shuffles elements).\n",
    "BUFFER_SIZE = 10000\n",
    "\n",
    "dataset = (\n",
    "    dataset\n",
    "    .shuffle(BUFFER_SIZE)\n",
    "    .batch(BATCH_SIZE, drop_remainder=True)\n",
    "    .prefetch(tf.data.experimental.AUTOTUNE)\n",
    ")\n",
    "dataset"
   ]
  },
  {
   "cell_type": "markdown",
   "metadata": {},
   "source": [
    "## Build The Model"
   ]
  },
  {
   "cell_type": "code",
   "execution_count": 39,
   "metadata": {},
   "outputs": [],
   "source": [
    "# Length of the vocabulary in chars\n",
    "vocab_size = len(vocab)\n",
    "\n",
    "# The embedding dimension\n",
    "embedding_dim = 256\n",
    "\n",
    "# Number of RNN units\n",
    "rnn_units = 1024"
   ]
  },
  {
   "cell_type": "code",
   "execution_count": 40,
   "metadata": {},
   "outputs": [],
   "source": [
    "class MyModel(tf.keras.Model):\n",
    "    def __init__(\n",
    "        self, \n",
    "        vocab_size, \n",
    "        embedding_dim, \n",
    "        rnn_units\n",
    "    ):\n",
    "        super().__init__(self)\n",
    "        self.embedding = tf.keras.layers.Embedding(\n",
    "            vocab_size,\n",
    "            embedding_dim\n",
    "        )\n",
    "        self.gru = tf.keras.layers.GRU(\n",
    "            rnn_units,\n",
    "            return_sequences=True,\n",
    "            return_state=True\n",
    "        )\n",
    "        self.dense = tf.keras.layers.Dense(vocab_size)\n",
    "    \n",
    "    def call(\n",
    "        self,\n",
    "        inputs,\n",
    "        states=None,\n",
    "        return_state=False,\n",
    "        training=False\n",
    "    ):\n",
    "        x = inputs\n",
    "        x = self.embedding(x, training=training)\n",
    "        if states is None:\n",
    "            states = self.gru.get_initial_state(x)\n",
    "        x, states = self.gru(\n",
    "            x,\n",
    "            initial_state=states,\n",
    "            training=training\n",
    "        )\n",
    "        x = self.dense(x, training=training)\n",
    "\n",
    "        if return_state:\n",
    "            return x, states\n",
    "        else:\n",
    "            return x"
   ]
  },
  {
   "cell_type": "code",
   "execution_count": 41,
   "metadata": {},
   "outputs": [],
   "source": [
    "model = MyModel(\n",
    "    # Be sure the vocabulary size matches the `StringLookup`\n",
    "    # layers.\n",
    "    vocab_size=len(ids_from_chars.get_vocabulary()),\n",
    "    embedding_dim=embedding_dim,\n",
    "    rnn_units=rnn_units\n",
    ")"
   ]
  },
  {
   "cell_type": "markdown",
   "metadata": {},
   "source": [
    "## Try the model"
   ]
  },
  {
   "cell_type": "code",
   "execution_count": 42,
   "metadata": {},
   "outputs": [
    {
     "name": "stderr",
     "output_type": "stream",
     "text": [
      "2022-03-09 02:37:17.886856: I tensorflow/stream_executor/cuda/cuda_dnn.cc:368] Loaded cuDNN version 8200\n"
     ]
    },
    {
     "name": "stdout",
     "output_type": "stream",
     "text": [
      "(64, 100, 171)# (batch_size, sequence_length, vocab_size)\n"
     ]
    }
   ],
   "source": [
    "# Check the shape of the output\n",
    "for input_example_batch, target_example_batch in dataset.take(1):\n",
    "    example_batch_predictions = model(input_example_batch)\n",
    "    print(f\"{example_batch_predictions.shape}# (batch_size, sequence_length, vocab_size)\")"
   ]
  },
  {
   "cell_type": "code",
   "execution_count": 43,
   "metadata": {},
   "outputs": [
    {
     "name": "stdout",
     "output_type": "stream",
     "text": [
      "Model: \"my_model\"\n",
      "_________________________________________________________________\n",
      " Layer (type)                Output Shape              Param #   \n",
      "=================================================================\n",
      " embedding (Embedding)       multiple                  43776     \n",
      "                                                                 \n",
      " gru (GRU)                   multiple                  3938304   \n",
      "                                                                 \n",
      " dense (Dense)               multiple                  175275    \n",
      "                                                                 \n",
      "=================================================================\n",
      "Total params: 4,157,355\n",
      "Trainable params: 4,157,355\n",
      "Non-trainable params: 0\n",
      "_________________________________________________________________\n"
     ]
    }
   ],
   "source": [
    "model.summary()"
   ]
  },
  {
   "cell_type": "code",
   "execution_count": 44,
   "metadata": {},
   "outputs": [],
   "source": [
    "sampled_indices = tf.random.categorical(\n",
    "    example_batch_predictions[0],\n",
    "    num_samples=1\n",
    ")\n",
    "sampled_indices = tf.squeeze(\n",
    "    sampled_indices,\n",
    "    axis=-1\n",
    ").numpy()"
   ]
  },
  {
   "cell_type": "code",
   "execution_count": 45,
   "metadata": {},
   "outputs": [
    {
     "data": {
      "text/plain": [
       "array([  0,  11, 116,   7, 114,   5,  21, 119,  10, 145,  87,  65, 162,\n",
       "       165,  31,  32,  33,  42,  38,  38,  34, 151,  85,  55,  57, 169,\n",
       "        13,  65,  88, 160, 101,  69,  14,   4,  42,  50, 149, 141,   5,\n",
       "        97, 151,  50, 114,  49, 160, 123, 169, 132, 108,  89, 148, 131,\n",
       "       142, 121,  90,  22, 126, 166,  22,  48, 112,  73, 169,  23,   3,\n",
       "       161, 155,  91,  25, 102, 119, 154,  23,  82,  91,  71, 132,   5,\n",
       "        81,   8,  46, 169,  86, 122,  43,   8, 140, 147,  19,  51, 166,\n",
       "       101,  22, 109,  33, 116, 136,  19, 140, 125])"
      ]
     },
     "execution_count": 45,
     "metadata": {},
     "output_type": "execute_result"
    }
   ],
   "source": [
    "sampled_indices"
   ]
  },
  {
   "cell_type": "code",
   "execution_count": 46,
   "metadata": {},
   "outputs": [
    {
     "name": "stdout",
     "output_type": "stream",
     "text": [
      "Input:\n",
      "b'it on any calculator\\nLol you do realize 0\\xe2\\x81\\xb0 = 1 right? \\xf0\\x9f\\x98\\x82\\xf0\\x9f\\x98\\x82\\xf0\\x9f\\x98\\x82\\nI was making an observation at your puny a'\n",
      "\n",
      "Next Char Predictions:\n",
      "[UNK]*⁰&”#4☹)😦zd🤬🥰?@AJFFB😵xWY🧐,d🤦पh-\"JR😱😔#ʔ😵R”Q🤦🅱🧐😁ह😭🔥😠❗×5👋🥵5P’l🧐6!🤨🙄æ8भ☹🙂6uæj😁#t'N🧐y️K'😐😬2S🥵प5ाA⁰😊2😐👀\n"
     ]
    }
   ],
   "source": [
    "print(f\"Input:\\n{text_from_ids(input_example_batch[0].numpy())}\\n\")\n",
    "print(f\"Next Char Predictions:\\n{text_from_ids(sampled_indices).numpy().decode('utf-8')}\")"
   ]
  },
  {
   "cell_type": "markdown",
   "metadata": {},
   "source": [
    "## Train the model\n",
    "### Attach an optimizer, and a loss function"
   ]
  },
  {
   "cell_type": "code",
   "execution_count": 47,
   "metadata": {},
   "outputs": [],
   "source": [
    "loss = tf.losses.SparseCategoricalCrossentropy(\n",
    "    from_logits=True\n",
    ")"
   ]
  },
  {
   "cell_type": "code",
   "execution_count": 48,
   "metadata": {},
   "outputs": [
    {
     "name": "stdout",
     "output_type": "stream",
     "text": [
      "Prediction shape:\t\t(64, 100, 171) # (batch_size, sequence_length, vocab_size)\n",
      "Mean loss:\t\t\t5.141695499420166\n"
     ]
    }
   ],
   "source": [
    "example_batch_mean_loss = loss(\n",
    "    target_example_batch,\n",
    "    example_batch_predictions,\n",
    ")\n",
    "print(f\"Prediction shape:\\t\\t{example_batch_predictions.shape} # (batch_size, sequence_length, vocab_size)\")\n",
    "print(f\"Mean loss:\\t\\t\\t{example_batch_mean_loss}\")"
   ]
  },
  {
   "cell_type": "code",
   "execution_count": 49,
   "metadata": {},
   "outputs": [
    {
     "data": {
      "text/plain": [
       "171.00546"
      ]
     },
     "execution_count": 49,
     "metadata": {},
     "output_type": "execute_result"
    }
   ],
   "source": [
    "tf.exp(example_batch_mean_loss).numpy()"
   ]
  },
  {
   "cell_type": "code",
   "execution_count": 50,
   "metadata": {},
   "outputs": [],
   "source": [
    "model.compile(\n",
    "    optimizer=\"adam\",\n",
    "    loss=loss\n",
    ")"
   ]
  },
  {
   "cell_type": "markdown",
   "metadata": {},
   "source": [
    "### Configure checkpoints"
   ]
  },
  {
   "cell_type": "code",
   "execution_count": 51,
   "metadata": {},
   "outputs": [],
   "source": [
    "# Directory where the checkpoints will be saved\n",
    "checkpoint_dir=\"./models/xkaubu\"\n",
    "# Name of the checkpoint files\n",
    "checkpoint_prefix = os.path.join(\n",
    "    checkpoint_dir,\n",
    "    \"ckpt_{epoch}\"\n",
    ")\n",
    "\n",
    "checkpoint_callback = tf.keras.callbacks.ModelCheckpoint(\n",
    "    filepath=checkpoint_prefix,\n",
    "    save_weights_only=True\n",
    ")"
   ]
  },
  {
   "cell_type": "markdown",
   "metadata": {},
   "source": [
    "### Execute the training"
   ]
  },
  {
   "cell_type": "code",
   "execution_count": 52,
   "metadata": {},
   "outputs": [],
   "source": [
    "EPOCHS = 100"
   ]
  },
  {
   "cell_type": "code",
   "execution_count": 53,
   "metadata": {},
   "outputs": [
    {
     "name": "stdout",
     "output_type": "stream",
     "text": [
      "Epoch 1/100\n",
      "14/14 [==============================] - 3s 112ms/step - loss: 4.5654\n",
      "Epoch 2/100\n",
      "14/14 [==============================] - 1s 83ms/step - loss: 3.4142\n",
      "Epoch 3/100\n",
      "14/14 [==============================] - 1s 86ms/step - loss: 3.1323\n",
      "Epoch 4/100\n",
      "14/14 [==============================] - 1s 87ms/step - loss: 2.9564\n",
      "Epoch 5/100\n",
      "14/14 [==============================] - 1s 87ms/step - loss: 2.7797\n",
      "Epoch 6/100\n",
      "14/14 [==============================] - 1s 85ms/step - loss: 2.6762\n",
      "Epoch 7/100\n",
      "14/14 [==============================] - 1s 83ms/step - loss: 2.6071\n",
      "Epoch 8/100\n",
      "14/14 [==============================] - 1s 86ms/step - loss: 2.5634\n",
      "Epoch 9/100\n",
      "14/14 [==============================] - 1s 88ms/step - loss: 2.5275\n",
      "Epoch 10/100\n",
      "14/14 [==============================] - 1s 88ms/step - loss: 2.4963\n",
      "Epoch 11/100\n",
      "14/14 [==============================] - 1s 94ms/step - loss: 2.4628\n",
      "Epoch 12/100\n",
      "14/14 [==============================] - 1s 86ms/step - loss: 2.4315\n",
      "Epoch 13/100\n",
      "14/14 [==============================] - 1s 84ms/step - loss: 2.3978\n",
      "Epoch 14/100\n",
      "14/14 [==============================] - 1s 85ms/step - loss: 2.3582\n",
      "Epoch 15/100\n",
      "14/14 [==============================] - 1s 85ms/step - loss: 2.3265\n",
      "Epoch 16/100\n",
      "14/14 [==============================] - 1s 83ms/step - loss: 2.2937\n",
      "Epoch 17/100\n",
      "14/14 [==============================] - 1s 83ms/step - loss: 2.2562\n",
      "Epoch 18/100\n",
      "14/14 [==============================] - 1s 84ms/step - loss: 2.2189\n",
      "Epoch 19/100\n",
      "14/14 [==============================] - 1s 82ms/step - loss: 2.1861\n",
      "Epoch 20/100\n",
      "14/14 [==============================] - 1s 86ms/step - loss: 2.1511\n",
      "Epoch 21/100\n",
      "14/14 [==============================] - 1s 94ms/step - loss: 2.1170\n",
      "Epoch 22/100\n",
      "14/14 [==============================] - 1s 87ms/step - loss: 2.0823\n",
      "Epoch 23/100\n",
      "14/14 [==============================] - 1s 85ms/step - loss: 2.0497\n",
      "Epoch 24/100\n",
      "14/14 [==============================] - 1s 91ms/step - loss: 2.0117\n",
      "Epoch 25/100\n",
      "14/14 [==============================] - 1s 89ms/step - loss: 1.9749\n",
      "Epoch 26/100\n",
      "14/14 [==============================] - 1s 85ms/step - loss: 1.9344\n",
      "Epoch 27/100\n",
      "14/14 [==============================] - 1s 91ms/step - loss: 1.8977\n",
      "Epoch 28/100\n",
      "14/14 [==============================] - 1s 87ms/step - loss: 1.8557\n",
      "Epoch 29/100\n",
      "14/14 [==============================] - 1s 86ms/step - loss: 1.8134\n",
      "Epoch 30/100\n",
      "14/14 [==============================] - 1s 92ms/step - loss: 1.7714\n",
      "Epoch 31/100\n",
      "14/14 [==============================] - 1s 91ms/step - loss: 1.7235\n",
      "Epoch 32/100\n",
      "14/14 [==============================] - 1s 83ms/step - loss: 1.6816\n",
      "Epoch 33/100\n",
      "14/14 [==============================] - 1s 85ms/step - loss: 1.6301\n",
      "Epoch 34/100\n",
      "14/14 [==============================] - 1s 85ms/step - loss: 1.5786\n",
      "Epoch 35/100\n",
      "14/14 [==============================] - 1s 84ms/step - loss: 1.5242\n",
      "Epoch 36/100\n",
      "14/14 [==============================] - 1s 84ms/step - loss: 1.4693\n",
      "Epoch 37/100\n",
      "14/14 [==============================] - 1s 85ms/step - loss: 1.4108\n",
      "Epoch 38/100\n",
      "14/14 [==============================] - 1s 85ms/step - loss: 1.3490\n",
      "Epoch 39/100\n",
      "14/14 [==============================] - 1s 86ms/step - loss: 1.2864\n",
      "Epoch 40/100\n",
      "14/14 [==============================] - 1s 84ms/step - loss: 1.2157\n",
      "Epoch 41/100\n",
      "14/14 [==============================] - 1s 85ms/step - loss: 1.1483\n",
      "Epoch 42/100\n",
      "14/14 [==============================] - 1s 84ms/step - loss: 1.0774\n",
      "Epoch 43/100\n",
      "14/14 [==============================] - 1s 88ms/step - loss: 0.9990\n",
      "Epoch 44/100\n",
      "14/14 [==============================] - 1s 88ms/step - loss: 0.9256\n",
      "Epoch 45/100\n",
      "14/14 [==============================] - 1s 85ms/step - loss: 0.8478\n",
      "Epoch 46/100\n",
      "14/14 [==============================] - 1s 83ms/step - loss: 0.7715\n",
      "Epoch 47/100\n",
      "14/14 [==============================] - 1s 90ms/step - loss: 0.6915\n",
      "Epoch 48/100\n",
      "14/14 [==============================] - 1s 90ms/step - loss: 0.6147\n",
      "Epoch 49/100\n",
      "14/14 [==============================] - 1s 85ms/step - loss: 0.5437\n",
      "Epoch 50/100\n",
      "14/14 [==============================] - 1s 83ms/step - loss: 0.4763\n",
      "Epoch 51/100\n",
      "14/14 [==============================] - 2s 95ms/step - loss: 0.4144\n",
      "Epoch 52/100\n",
      "14/14 [==============================] - 1s 89ms/step - loss: 0.3598\n",
      "Epoch 53/100\n",
      "14/14 [==============================] - 1s 94ms/step - loss: 0.3120\n",
      "Epoch 54/100\n",
      "14/14 [==============================] - 2s 122ms/step - loss: 0.2659\n",
      "Epoch 55/100\n",
      "14/14 [==============================] - 1s 90ms/step - loss: 0.2291\n",
      "Epoch 56/100\n",
      "14/14 [==============================] - 1s 91ms/step - loss: 0.1984\n",
      "Epoch 57/100\n",
      "14/14 [==============================] - 1s 94ms/step - loss: 0.1733\n",
      "Epoch 58/100\n",
      "14/14 [==============================] - 2s 104ms/step - loss: 0.1539\n",
      "Epoch 59/100\n",
      "14/14 [==============================] - 1s 87ms/step - loss: 0.1380\n",
      "Epoch 60/100\n",
      "14/14 [==============================] - 1s 94ms/step - loss: 0.1251\n",
      "Epoch 61/100\n",
      "14/14 [==============================] - 2s 97ms/step - loss: 0.1154\n",
      "Epoch 62/100\n",
      "14/14 [==============================] - 1s 88ms/step - loss: 0.1069\n",
      "Epoch 63/100\n",
      "14/14 [==============================] - 1s 91ms/step - loss: 0.0991\n",
      "Epoch 64/100\n",
      "14/14 [==============================] - 1s 88ms/step - loss: 0.0937\n",
      "Epoch 65/100\n",
      "14/14 [==============================] - 1s 93ms/step - loss: 0.0887\n",
      "Epoch 66/100\n",
      "14/14 [==============================] - 1s 86ms/step - loss: 0.0859\n",
      "Epoch 67/100\n",
      "14/14 [==============================] - 1s 88ms/step - loss: 0.0828\n",
      "Epoch 68/100\n",
      "14/14 [==============================] - 1s 93ms/step - loss: 0.0791\n",
      "Epoch 69/100\n",
      "14/14 [==============================] - 1s 92ms/step - loss: 0.0760\n",
      "Epoch 70/100\n",
      "14/14 [==============================] - 1s 85ms/step - loss: 0.0742\n",
      "Epoch 71/100\n",
      "14/14 [==============================] - 1s 83ms/step - loss: 0.0723\n",
      "Epoch 72/100\n",
      "14/14 [==============================] - 1s 85ms/step - loss: 0.0701\n",
      "Epoch 73/100\n",
      "14/14 [==============================] - 1s 89ms/step - loss: 0.0681\n",
      "Epoch 74/100\n",
      "14/14 [==============================] - 1s 83ms/step - loss: 0.0663\n",
      "Epoch 75/100\n",
      "14/14 [==============================] - 1s 84ms/step - loss: 0.0646\n",
      "Epoch 76/100\n",
      "14/14 [==============================] - 1s 87ms/step - loss: 0.0634\n",
      "Epoch 77/100\n",
      "14/14 [==============================] - 1s 84ms/step - loss: 0.0625\n",
      "Epoch 78/100\n",
      "14/14 [==============================] - 1s 84ms/step - loss: 0.0614\n",
      "Epoch 79/100\n",
      "14/14 [==============================] - 1s 86ms/step - loss: 0.0602\n",
      "Epoch 80/100\n",
      "14/14 [==============================] - 1s 85ms/step - loss: 0.0594\n",
      "Epoch 81/100\n",
      "14/14 [==============================] - 1s 85ms/step - loss: 0.0584\n",
      "Epoch 82/100\n",
      "14/14 [==============================] - 1s 85ms/step - loss: 0.0578\n",
      "Epoch 83/100\n",
      "14/14 [==============================] - 1s 90ms/step - loss: 0.0569\n",
      "Epoch 84/100\n",
      "14/14 [==============================] - 1s 86ms/step - loss: 0.0561\n",
      "Epoch 85/100\n",
      "14/14 [==============================] - 1s 87ms/step - loss: 0.0556\n",
      "Epoch 86/100\n",
      "14/14 [==============================] - 1s 83ms/step - loss: 0.0550\n",
      "Epoch 87/100\n",
      "14/14 [==============================] - 1s 90ms/step - loss: 0.0542\n",
      "Epoch 88/100\n",
      "14/14 [==============================] - 1s 86ms/step - loss: 0.0538\n",
      "Epoch 89/100\n",
      "14/14 [==============================] - 1s 86ms/step - loss: 0.0533\n",
      "Epoch 90/100\n",
      "14/14 [==============================] - 1s 88ms/step - loss: 0.0529\n",
      "Epoch 91/100\n",
      "14/14 [==============================] - 1s 86ms/step - loss: 0.0529\n",
      "Epoch 92/100\n",
      "14/14 [==============================] - 1s 90ms/step - loss: 0.0524\n",
      "Epoch 93/100\n",
      "14/14 [==============================] - 1s 83ms/step - loss: 0.0523\n",
      "Epoch 94/100\n",
      "14/14 [==============================] - 1s 88ms/step - loss: 0.0518\n",
      "Epoch 95/100\n",
      "14/14 [==============================] - 1s 89ms/step - loss: 0.0512\n",
      "Epoch 96/100\n",
      "14/14 [==============================] - 1s 84ms/step - loss: 0.0511\n",
      "Epoch 97/100\n",
      "14/14 [==============================] - 1s 87ms/step - loss: 0.0507\n",
      "Epoch 98/100\n",
      "14/14 [==============================] - 1s 84ms/step - loss: 0.0503\n",
      "Epoch 99/100\n",
      "14/14 [==============================] - 1s 87ms/step - loss: 0.0502\n",
      "Epoch 100/100\n",
      "14/14 [==============================] - 1s 86ms/step - loss: 0.0499\n"
     ]
    }
   ],
   "source": [
    "history = model.fit(\n",
    "    dataset,\n",
    "    epochs=EPOCHS,\n",
    "    callbacks=[checkpoint_callback]\n",
    ")"
   ]
  },
  {
   "cell_type": "markdown",
   "metadata": {},
   "source": [
    "## Generate text"
   ]
  },
  {
   "cell_type": "code",
   "execution_count": 54,
   "metadata": {},
   "outputs": [],
   "source": [
    "# Single step prediction\n",
    "class OneStep(tf.keras.Model):\n",
    "    def __init__(\n",
    "        self,\n",
    "        model,\n",
    "        chars_from_ids,\n",
    "        ids_from_chars,\n",
    "        temperature=1.0\n",
    "    ):\n",
    "        super().__init__()\n",
    "        self.temperature = temperature\n",
    "        self.model = model\n",
    "        self.chars_from_ids = chars_from_ids\n",
    "        self.ids_from_chars = ids_from_chars\n",
    "\n",
    "        # Create a mask to prevent \"[UNK]\" from being\n",
    "        # generated.\n",
    "        skip_ids = self.ids_from_chars(\n",
    "            [\"[UNK]\"]\n",
    "        )[:, None]\n",
    "        sparse_mask = tf.SparseTensor(\n",
    "            # Put a -inf at each bad index\n",
    "            values=[-float(\"inf\")]*len(skip_ids),\n",
    "            indices=skip_ids,\n",
    "            # Match the shape to the vocabulary\n",
    "            dense_shape=[\n",
    "                len(\n",
    "                    ids_from_chars.get_vocabulary()\n",
    "                )\n",
    "            ]\n",
    "        )\n",
    "        self.prediction_mask = tf.sparse.to_dense(\n",
    "            sparse_mask\n",
    "        )\n",
    "    \n",
    "    @tf.function\n",
    "    def generate_one_step(\n",
    "        self,\n",
    "        inputs,\n",
    "        states=None\n",
    "    ):\n",
    "        # Convert strings to token IDs\n",
    "        input_chars = tf.strings.unicode_split(\n",
    "            inputs,\n",
    "            \"UTF-8\"\n",
    "        )\n",
    "        input_ids = self.ids_from_chars(\n",
    "            input_chars\n",
    "        ).to_tensor()\n",
    "\n",
    "        # Run the model\n",
    "        # predicted_logits.shape is\n",
    "        # [batch, char, next_char_logits]\n",
    "        predicted_logits, states = self.model(\n",
    "            inputs=input_ids,\n",
    "            states=states,\n",
    "            return_state=True\n",
    "        )\n",
    "\n",
    "        # Only use the last prediction\n",
    "        predicted_logits = predicted_logits[:, -1, :]\n",
    "        predicted_logits = predicted_logits/self.temperature\n",
    "        # Apply the prediction mask:\n",
    "        # prevent \"[UNK]\" from being generated\n",
    "        predicted_logits = predicted_logits + self.prediction_mask\n",
    "\n",
    "        # Sample the output logits to generate token IDs\n",
    "        predicted_ids = tf.random.categorical(\n",
    "            predicted_logits,\n",
    "            num_samples=1\n",
    "        )\n",
    "        predicted_ids = tf.squeeze(\n",
    "            predicted_ids,\n",
    "            axis=-1\n",
    "        )\n",
    "\n",
    "        # Convert from token IDs to characters\n",
    "        predicted_chars = self.chars_from_ids(\n",
    "            predicted_ids\n",
    "        )\n",
    "\n",
    "        # Return the characters and model state\n",
    "        return predicted_chars, states"
   ]
  },
  {
   "cell_type": "code",
   "execution_count": 55,
   "metadata": {},
   "outputs": [],
   "source": [
    "one_step_model = OneStep(\n",
    "    model,\n",
    "    chars_from_ids,\n",
    "    ids_from_chars\n",
    ")"
   ]
  },
  {
   "cell_type": "markdown",
   "metadata": {},
   "source": [
    "### Actual generation code"
   ]
  },
  {
   "cell_type": "code",
   "execution_count": 62,
   "metadata": {},
   "outputs": [],
   "source": [
    "start = time.time()\n",
    "states = None\n",
    "next_char = tf.constant([\"When\"])\n",
    "result = [next_char]\n",
    "\n",
    "# Default: 1000\n",
    "CHARS_GEN = 100000\n",
    "\n",
    "for n in range(CHARS_GEN):\n",
    "    next_char, states = one_step_model.generate_one_step(\n",
    "        next_char,\n",
    "        states=states\n",
    "    )\n",
    "    result.append(next_char)\n",
    "\n",
    "OUT_FILE=\"output/ai3_0.txt\"\n",
    "\n",
    "result = tf.strings.join(result)\n",
    "end = time.time()\n",
    "\n",
    "with open(OUT_FILE, \"a\") as f:\n",
    "    f.write(result[0].numpy().decode(\"utf-8\"))\n",
    "\n",
    "print(f\"{result[0].numpy().decode('utf-8')}\\n\\n{'_'*80}\\n\")\n",
    "print(f\"Run time: {end-start}\")"
   ]
  }
 ],
 "metadata": {
  "interpreter": {
   "hash": "916dbcbb3f70747c44a77c7bcd40155683ae19c65e1c03b4aa3499c5328201f1"
  },
  "kernelspec": {
   "display_name": "Python 3.9.7 64-bit",
   "language": "python",
   "name": "python3"
  },
  "language_info": {
   "codemirror_mode": {
    "name": "ipython",
    "version": 3
   },
   "file_extension": ".py",
   "mimetype": "text/x-python",
   "name": "python",
   "nbconvert_exporter": "python",
   "pygments_lexer": "ipython3",
   "version": "3.9.7"
  },
  "orig_nbformat": 4
 },
 "nbformat": 4,
 "nbformat_minor": 2
}
